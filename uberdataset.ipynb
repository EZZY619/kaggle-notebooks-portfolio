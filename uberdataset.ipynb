{
 "cells": [
  {
   "cell_type": "code",
   "execution_count": 1,
   "id": "7921d4d8",
   "metadata": {
    "_cell_guid": "b1076dfc-b9ad-4769-8c92-a6c4dae69d19",
    "_uuid": "8f2839f25d086af736a60e9eeb907d3b93b6e0e5",
    "execution": {
     "iopub.execute_input": "2025-08-19T08:40:18.589023Z",
     "iopub.status.busy": "2025-08-19T08:40:18.588491Z",
     "iopub.status.idle": "2025-08-19T08:40:21.390425Z",
     "shell.execute_reply": "2025-08-19T08:40:21.388348Z"
    },
    "papermill": {
     "duration": 2.812159,
     "end_time": "2025-08-19T08:40:21.392836",
     "exception": false,
     "start_time": "2025-08-19T08:40:18.580677",
     "status": "completed"
    },
    "tags": []
   },
   "outputs": [
    {
     "name": "stdout",
     "output_type": "stream",
     "text": [
      "/kaggle/input/uber-ride-analytics-dashboard/ncr_ride_bookings.csv\n",
      "/kaggle/input/uber-ride-analytics-dashboard/Dasboard.gif\n",
      "/kaggle/input/uber-ride-analytics-dashboard/Uber.pbix\n"
     ]
    }
   ],
   "source": [
    "# This Python 3 environment comes with many helpful analytics libraries installed\n",
    "# It is defined by the kaggle/python Docker image: https://github.com/kaggle/docker-python\n",
    "# For example, here's several helpful packages to load\n",
    "\n",
    "import numpy as np # linear algebra\n",
    "import pandas as pd # data processing, CSV file I/O (e.g. pd.read_csv)\n",
    "import matplotlib.pyplot as plt # for data visualization\n",
    "\n",
    "# Input data files are available in the read-only \"../input/\" directory\n",
    "# For example, running this (by clicking run or pressing Shift+Enter) will list all files under the input directory\n",
    "\n",
    "import os\n",
    "for dirname, _, filenames in os.walk('/kaggle/input'):\n",
    "    for filename in filenames:\n",
    "        print(os.path.join(dirname, filename))\n",
    "\n",
    "# You can write up to 20GB to the current directory (/kaggle/working/) that gets preserved as output when you create a version using \"Save & Run All\" \n",
    "# You can also write temporary files to /kaggle/temp/, but they won't be saved outside of the current session"
   ]
  },
  {
   "cell_type": "code",
   "execution_count": 2,
   "id": "5f5f26dc",
   "metadata": {
    "execution": {
     "iopub.execute_input": "2025-08-19T08:40:21.406209Z",
     "iopub.status.busy": "2025-08-19T08:40:21.405515Z",
     "iopub.status.idle": "2025-08-19T08:40:22.696780Z",
     "shell.execute_reply": "2025-08-19T08:40:22.695157Z"
    },
    "papermill": {
     "duration": 1.300669,
     "end_time": "2025-08-19T08:40:22.699223",
     "exception": false,
     "start_time": "2025-08-19T08:40:21.398554",
     "status": "completed"
    },
    "tags": []
   },
   "outputs": [],
   "source": [
    "data = \"/kaggle/input/uber-ride-analytics-dashboard/ncr_ride_bookings.csv\"\n",
    "df = pd.read_csv(data)"
   ]
  },
  {
   "cell_type": "code",
   "execution_count": 3,
   "id": "b9db7f0b",
   "metadata": {
    "execution": {
     "iopub.execute_input": "2025-08-19T08:40:22.710907Z",
     "iopub.status.busy": "2025-08-19T08:40:22.710519Z",
     "iopub.status.idle": "2025-08-19T08:40:22.719857Z",
     "shell.execute_reply": "2025-08-19T08:40:22.718363Z"
    },
    "papermill": {
     "duration": 0.01775,
     "end_time": "2025-08-19T08:40:22.722157",
     "exception": false,
     "start_time": "2025-08-19T08:40:22.704407",
     "status": "completed"
    },
    "tags": []
   },
   "outputs": [
    {
     "data": {
      "text/plain": [
       "(150000, 21)"
      ]
     },
     "execution_count": 3,
     "metadata": {},
     "output_type": "execute_result"
    }
   ],
   "source": [
    "# This checks for how many rows and columns the dataset contains\n",
    "df.shape"
   ]
  },
  {
   "cell_type": "code",
   "execution_count": 4,
   "id": "06da8655",
   "metadata": {
    "execution": {
     "iopub.execute_input": "2025-08-19T08:40:22.735159Z",
     "iopub.status.busy": "2025-08-19T08:40:22.734737Z",
     "iopub.status.idle": "2025-08-19T08:40:22.789242Z",
     "shell.execute_reply": "2025-08-19T08:40:22.787039Z"
    },
    "papermill": {
     "duration": 0.063248,
     "end_time": "2025-08-19T08:40:22.791564",
     "exception": false,
     "start_time": "2025-08-19T08:40:22.728316",
     "status": "completed"
    },
    "tags": []
   },
   "outputs": [
    {
     "name": "stderr",
     "output_type": "stream",
     "text": [
      "/usr/local/lib/python3.11/dist-packages/pandas/io/formats/format.py:1458: RuntimeWarning: invalid value encountered in greater\n",
      "  has_large_values = (abs_vals > 1e6).any()\n",
      "/usr/local/lib/python3.11/dist-packages/pandas/io/formats/format.py:1459: RuntimeWarning: invalid value encountered in less\n",
      "  has_small_values = ((abs_vals < 10 ** (-self.digits)) & (abs_vals > 0)).any()\n",
      "/usr/local/lib/python3.11/dist-packages/pandas/io/formats/format.py:1459: RuntimeWarning: invalid value encountered in greater\n",
      "  has_small_values = ((abs_vals < 10 ** (-self.digits)) & (abs_vals > 0)).any()\n",
      "/usr/local/lib/python3.11/dist-packages/pandas/io/formats/format.py:1458: RuntimeWarning: invalid value encountered in greater\n",
      "  has_large_values = (abs_vals > 1e6).any()\n",
      "/usr/local/lib/python3.11/dist-packages/pandas/io/formats/format.py:1459: RuntimeWarning: invalid value encountered in less\n",
      "  has_small_values = ((abs_vals < 10 ** (-self.digits)) & (abs_vals > 0)).any()\n",
      "/usr/local/lib/python3.11/dist-packages/pandas/io/formats/format.py:1459: RuntimeWarning: invalid value encountered in greater\n",
      "  has_small_values = ((abs_vals < 10 ** (-self.digits)) & (abs_vals > 0)).any()\n"
     ]
    },
    {
     "data": {
      "text/html": [
       "<div>\n",
       "<style scoped>\n",
       "    .dataframe tbody tr th:only-of-type {\n",
       "        vertical-align: middle;\n",
       "    }\n",
       "\n",
       "    .dataframe tbody tr th {\n",
       "        vertical-align: top;\n",
       "    }\n",
       "\n",
       "    .dataframe thead th {\n",
       "        text-align: right;\n",
       "    }\n",
       "</style>\n",
       "<table border=\"1\" class=\"dataframe\">\n",
       "  <thead>\n",
       "    <tr style=\"text-align: right;\">\n",
       "      <th></th>\n",
       "      <th>Date</th>\n",
       "      <th>Time</th>\n",
       "      <th>Booking ID</th>\n",
       "      <th>Booking Status</th>\n",
       "      <th>Customer ID</th>\n",
       "      <th>Vehicle Type</th>\n",
       "      <th>Pickup Location</th>\n",
       "      <th>Drop Location</th>\n",
       "      <th>Avg VTAT</th>\n",
       "      <th>Avg CTAT</th>\n",
       "      <th>...</th>\n",
       "      <th>Reason for cancelling by Customer</th>\n",
       "      <th>Cancelled Rides by Driver</th>\n",
       "      <th>Driver Cancellation Reason</th>\n",
       "      <th>Incomplete Rides</th>\n",
       "      <th>Incomplete Rides Reason</th>\n",
       "      <th>Booking Value</th>\n",
       "      <th>Ride Distance</th>\n",
       "      <th>Driver Ratings</th>\n",
       "      <th>Customer Rating</th>\n",
       "      <th>Payment Method</th>\n",
       "    </tr>\n",
       "  </thead>\n",
       "  <tbody>\n",
       "    <tr>\n",
       "      <th>0</th>\n",
       "      <td>2024-03-23</td>\n",
       "      <td>12:29:38</td>\n",
       "      <td>\"CNR5884300\"</td>\n",
       "      <td>No Driver Found</td>\n",
       "      <td>\"CID1982111\"</td>\n",
       "      <td>eBike</td>\n",
       "      <td>Palam Vihar</td>\n",
       "      <td>Jhilmil</td>\n",
       "      <td>NaN</td>\n",
       "      <td>NaN</td>\n",
       "      <td>...</td>\n",
       "      <td>NaN</td>\n",
       "      <td>NaN</td>\n",
       "      <td>NaN</td>\n",
       "      <td>NaN</td>\n",
       "      <td>NaN</td>\n",
       "      <td>NaN</td>\n",
       "      <td>NaN</td>\n",
       "      <td>NaN</td>\n",
       "      <td>NaN</td>\n",
       "      <td>NaN</td>\n",
       "    </tr>\n",
       "    <tr>\n",
       "      <th>1</th>\n",
       "      <td>2024-11-29</td>\n",
       "      <td>18:01:39</td>\n",
       "      <td>\"CNR1326809\"</td>\n",
       "      <td>Incomplete</td>\n",
       "      <td>\"CID4604802\"</td>\n",
       "      <td>Go Sedan</td>\n",
       "      <td>Shastri Nagar</td>\n",
       "      <td>Gurgaon Sector 56</td>\n",
       "      <td>4.9</td>\n",
       "      <td>14.0</td>\n",
       "      <td>...</td>\n",
       "      <td>NaN</td>\n",
       "      <td>NaN</td>\n",
       "      <td>NaN</td>\n",
       "      <td>1.0</td>\n",
       "      <td>Vehicle Breakdown</td>\n",
       "      <td>237.0</td>\n",
       "      <td>5.73</td>\n",
       "      <td>NaN</td>\n",
       "      <td>NaN</td>\n",
       "      <td>UPI</td>\n",
       "    </tr>\n",
       "    <tr>\n",
       "      <th>2</th>\n",
       "      <td>2024-08-23</td>\n",
       "      <td>08:56:10</td>\n",
       "      <td>\"CNR8494506\"</td>\n",
       "      <td>Completed</td>\n",
       "      <td>\"CID9202816\"</td>\n",
       "      <td>Auto</td>\n",
       "      <td>Khandsa</td>\n",
       "      <td>Malviya Nagar</td>\n",
       "      <td>13.4</td>\n",
       "      <td>25.8</td>\n",
       "      <td>...</td>\n",
       "      <td>NaN</td>\n",
       "      <td>NaN</td>\n",
       "      <td>NaN</td>\n",
       "      <td>NaN</td>\n",
       "      <td>NaN</td>\n",
       "      <td>627.0</td>\n",
       "      <td>13.58</td>\n",
       "      <td>4.9</td>\n",
       "      <td>4.9</td>\n",
       "      <td>Debit Card</td>\n",
       "    </tr>\n",
       "    <tr>\n",
       "      <th>3</th>\n",
       "      <td>2024-10-21</td>\n",
       "      <td>17:17:25</td>\n",
       "      <td>\"CNR8906825\"</td>\n",
       "      <td>Completed</td>\n",
       "      <td>\"CID2610914\"</td>\n",
       "      <td>Premier Sedan</td>\n",
       "      <td>Central Secretariat</td>\n",
       "      <td>Inderlok</td>\n",
       "      <td>13.1</td>\n",
       "      <td>28.5</td>\n",
       "      <td>...</td>\n",
       "      <td>NaN</td>\n",
       "      <td>NaN</td>\n",
       "      <td>NaN</td>\n",
       "      <td>NaN</td>\n",
       "      <td>NaN</td>\n",
       "      <td>416.0</td>\n",
       "      <td>34.02</td>\n",
       "      <td>4.6</td>\n",
       "      <td>5.0</td>\n",
       "      <td>UPI</td>\n",
       "    </tr>\n",
       "    <tr>\n",
       "      <th>4</th>\n",
       "      <td>2024-09-16</td>\n",
       "      <td>22:08:00</td>\n",
       "      <td>\"CNR1950162\"</td>\n",
       "      <td>Completed</td>\n",
       "      <td>\"CID9933542\"</td>\n",
       "      <td>Bike</td>\n",
       "      <td>Ghitorni Village</td>\n",
       "      <td>Khan Market</td>\n",
       "      <td>5.3</td>\n",
       "      <td>19.6</td>\n",
       "      <td>...</td>\n",
       "      <td>NaN</td>\n",
       "      <td>NaN</td>\n",
       "      <td>NaN</td>\n",
       "      <td>NaN</td>\n",
       "      <td>NaN</td>\n",
       "      <td>737.0</td>\n",
       "      <td>48.21</td>\n",
       "      <td>4.1</td>\n",
       "      <td>4.3</td>\n",
       "      <td>UPI</td>\n",
       "    </tr>\n",
       "  </tbody>\n",
       "</table>\n",
       "<p>5 rows × 21 columns</p>\n",
       "</div>"
      ],
      "text/plain": [
       "         Date      Time    Booking ID   Booking Status   Customer ID  \\\n",
       "0  2024-03-23  12:29:38  \"CNR5884300\"  No Driver Found  \"CID1982111\"   \n",
       "1  2024-11-29  18:01:39  \"CNR1326809\"       Incomplete  \"CID4604802\"   \n",
       "2  2024-08-23  08:56:10  \"CNR8494506\"        Completed  \"CID9202816\"   \n",
       "3  2024-10-21  17:17:25  \"CNR8906825\"        Completed  \"CID2610914\"   \n",
       "4  2024-09-16  22:08:00  \"CNR1950162\"        Completed  \"CID9933542\"   \n",
       "\n",
       "    Vehicle Type      Pickup Location      Drop Location  Avg VTAT  Avg CTAT  \\\n",
       "0          eBike          Palam Vihar            Jhilmil       NaN       NaN   \n",
       "1       Go Sedan        Shastri Nagar  Gurgaon Sector 56       4.9      14.0   \n",
       "2           Auto              Khandsa      Malviya Nagar      13.4      25.8   \n",
       "3  Premier Sedan  Central Secretariat           Inderlok      13.1      28.5   \n",
       "4           Bike     Ghitorni Village        Khan Market       5.3      19.6   \n",
       "\n",
       "   ...  Reason for cancelling by Customer Cancelled Rides by Driver  \\\n",
       "0  ...                                NaN                       NaN   \n",
       "1  ...                                NaN                       NaN   \n",
       "2  ...                                NaN                       NaN   \n",
       "3  ...                                NaN                       NaN   \n",
       "4  ...                                NaN                       NaN   \n",
       "\n",
       "   Driver Cancellation Reason Incomplete Rides  Incomplete Rides Reason  \\\n",
       "0                         NaN              NaN                      NaN   \n",
       "1                         NaN              1.0        Vehicle Breakdown   \n",
       "2                         NaN              NaN                      NaN   \n",
       "3                         NaN              NaN                      NaN   \n",
       "4                         NaN              NaN                      NaN   \n",
       "\n",
       "  Booking Value  Ride Distance  Driver Ratings  Customer Rating  \\\n",
       "0           NaN            NaN             NaN              NaN   \n",
       "1         237.0           5.73             NaN              NaN   \n",
       "2         627.0          13.58             4.9              4.9   \n",
       "3         416.0          34.02             4.6              5.0   \n",
       "4         737.0          48.21             4.1              4.3   \n",
       "\n",
       "   Payment Method  \n",
       "0             NaN  \n",
       "1             UPI  \n",
       "2      Debit Card  \n",
       "3             UPI  \n",
       "4             UPI  \n",
       "\n",
       "[5 rows x 21 columns]"
      ]
     },
     "execution_count": 4,
     "metadata": {},
     "output_type": "execute_result"
    }
   ],
   "source": [
    "#The code before checks the first few samples of the dataset\n",
    "df.head()"
   ]
  },
  {
   "cell_type": "code",
   "execution_count": 5,
   "id": "bc13c464",
   "metadata": {
    "execution": {
     "iopub.execute_input": "2025-08-19T08:40:22.805428Z",
     "iopub.status.busy": "2025-08-19T08:40:22.805011Z",
     "iopub.status.idle": "2025-08-19T08:40:22.814782Z",
     "shell.execute_reply": "2025-08-19T08:40:22.813054Z"
    },
    "papermill": {
     "duration": 0.019985,
     "end_time": "2025-08-19T08:40:22.817291",
     "exception": false,
     "start_time": "2025-08-19T08:40:22.797306",
     "status": "completed"
    },
    "tags": []
   },
   "outputs": [],
   "source": [
    "# This will remove any unnecessary warning, such as that displayed after I used the \".head\" function\n",
    "import warnings\n",
    "warnings.filterwarnings(\"ignore\")"
   ]
  },
  {
   "cell_type": "code",
   "execution_count": 6,
   "id": "cbb30296",
   "metadata": {
    "execution": {
     "iopub.execute_input": "2025-08-19T08:40:22.839029Z",
     "iopub.status.busy": "2025-08-19T08:40:22.838587Z",
     "iopub.status.idle": "2025-08-19T08:40:22.863643Z",
     "shell.execute_reply": "2025-08-19T08:40:22.862545Z"
    },
    "papermill": {
     "duration": 0.039585,
     "end_time": "2025-08-19T08:40:22.865303",
     "exception": false,
     "start_time": "2025-08-19T08:40:22.825718",
     "status": "completed"
    },
    "tags": []
   },
   "outputs": [
    {
     "data": {
      "text/html": [
       "<div>\n",
       "<style scoped>\n",
       "    .dataframe tbody tr th:only-of-type {\n",
       "        vertical-align: middle;\n",
       "    }\n",
       "\n",
       "    .dataframe tbody tr th {\n",
       "        vertical-align: top;\n",
       "    }\n",
       "\n",
       "    .dataframe thead th {\n",
       "        text-align: right;\n",
       "    }\n",
       "</style>\n",
       "<table border=\"1\" class=\"dataframe\">\n",
       "  <thead>\n",
       "    <tr style=\"text-align: right;\">\n",
       "      <th></th>\n",
       "      <th>Date</th>\n",
       "      <th>Time</th>\n",
       "      <th>Booking ID</th>\n",
       "      <th>Booking Status</th>\n",
       "      <th>Customer ID</th>\n",
       "      <th>Vehicle Type</th>\n",
       "      <th>Pickup Location</th>\n",
       "      <th>Drop Location</th>\n",
       "      <th>Avg VTAT</th>\n",
       "      <th>Avg CTAT</th>\n",
       "      <th>...</th>\n",
       "      <th>Reason for cancelling by Customer</th>\n",
       "      <th>Cancelled Rides by Driver</th>\n",
       "      <th>Driver Cancellation Reason</th>\n",
       "      <th>Incomplete Rides</th>\n",
       "      <th>Incomplete Rides Reason</th>\n",
       "      <th>Booking Value</th>\n",
       "      <th>Ride Distance</th>\n",
       "      <th>Driver Ratings</th>\n",
       "      <th>Customer Rating</th>\n",
       "      <th>Payment Method</th>\n",
       "    </tr>\n",
       "  </thead>\n",
       "  <tbody>\n",
       "    <tr>\n",
       "      <th>0</th>\n",
       "      <td>2024-03-23</td>\n",
       "      <td>12:29:38</td>\n",
       "      <td>\"CNR5884300\"</td>\n",
       "      <td>No Driver Found</td>\n",
       "      <td>\"CID1982111\"</td>\n",
       "      <td>eBike</td>\n",
       "      <td>Palam Vihar</td>\n",
       "      <td>Jhilmil</td>\n",
       "      <td>NaN</td>\n",
       "      <td>NaN</td>\n",
       "      <td>...</td>\n",
       "      <td>NaN</td>\n",
       "      <td>NaN</td>\n",
       "      <td>NaN</td>\n",
       "      <td>NaN</td>\n",
       "      <td>NaN</td>\n",
       "      <td>NaN</td>\n",
       "      <td>NaN</td>\n",
       "      <td>NaN</td>\n",
       "      <td>NaN</td>\n",
       "      <td>NaN</td>\n",
       "    </tr>\n",
       "    <tr>\n",
       "      <th>1</th>\n",
       "      <td>2024-11-29</td>\n",
       "      <td>18:01:39</td>\n",
       "      <td>\"CNR1326809\"</td>\n",
       "      <td>Incomplete</td>\n",
       "      <td>\"CID4604802\"</td>\n",
       "      <td>Go Sedan</td>\n",
       "      <td>Shastri Nagar</td>\n",
       "      <td>Gurgaon Sector 56</td>\n",
       "      <td>4.9</td>\n",
       "      <td>14.0</td>\n",
       "      <td>...</td>\n",
       "      <td>NaN</td>\n",
       "      <td>NaN</td>\n",
       "      <td>NaN</td>\n",
       "      <td>1.0</td>\n",
       "      <td>Vehicle Breakdown</td>\n",
       "      <td>237.0</td>\n",
       "      <td>5.73</td>\n",
       "      <td>NaN</td>\n",
       "      <td>NaN</td>\n",
       "      <td>UPI</td>\n",
       "    </tr>\n",
       "    <tr>\n",
       "      <th>2</th>\n",
       "      <td>2024-08-23</td>\n",
       "      <td>08:56:10</td>\n",
       "      <td>\"CNR8494506\"</td>\n",
       "      <td>Completed</td>\n",
       "      <td>\"CID9202816\"</td>\n",
       "      <td>Auto</td>\n",
       "      <td>Khandsa</td>\n",
       "      <td>Malviya Nagar</td>\n",
       "      <td>13.4</td>\n",
       "      <td>25.8</td>\n",
       "      <td>...</td>\n",
       "      <td>NaN</td>\n",
       "      <td>NaN</td>\n",
       "      <td>NaN</td>\n",
       "      <td>NaN</td>\n",
       "      <td>NaN</td>\n",
       "      <td>627.0</td>\n",
       "      <td>13.58</td>\n",
       "      <td>4.9</td>\n",
       "      <td>4.9</td>\n",
       "      <td>Debit Card</td>\n",
       "    </tr>\n",
       "    <tr>\n",
       "      <th>3</th>\n",
       "      <td>2024-10-21</td>\n",
       "      <td>17:17:25</td>\n",
       "      <td>\"CNR8906825\"</td>\n",
       "      <td>Completed</td>\n",
       "      <td>\"CID2610914\"</td>\n",
       "      <td>Premier Sedan</td>\n",
       "      <td>Central Secretariat</td>\n",
       "      <td>Inderlok</td>\n",
       "      <td>13.1</td>\n",
       "      <td>28.5</td>\n",
       "      <td>...</td>\n",
       "      <td>NaN</td>\n",
       "      <td>NaN</td>\n",
       "      <td>NaN</td>\n",
       "      <td>NaN</td>\n",
       "      <td>NaN</td>\n",
       "      <td>416.0</td>\n",
       "      <td>34.02</td>\n",
       "      <td>4.6</td>\n",
       "      <td>5.0</td>\n",
       "      <td>UPI</td>\n",
       "    </tr>\n",
       "    <tr>\n",
       "      <th>4</th>\n",
       "      <td>2024-09-16</td>\n",
       "      <td>22:08:00</td>\n",
       "      <td>\"CNR1950162\"</td>\n",
       "      <td>Completed</td>\n",
       "      <td>\"CID9933542\"</td>\n",
       "      <td>Bike</td>\n",
       "      <td>Ghitorni Village</td>\n",
       "      <td>Khan Market</td>\n",
       "      <td>5.3</td>\n",
       "      <td>19.6</td>\n",
       "      <td>...</td>\n",
       "      <td>NaN</td>\n",
       "      <td>NaN</td>\n",
       "      <td>NaN</td>\n",
       "      <td>NaN</td>\n",
       "      <td>NaN</td>\n",
       "      <td>737.0</td>\n",
       "      <td>48.21</td>\n",
       "      <td>4.1</td>\n",
       "      <td>4.3</td>\n",
       "      <td>UPI</td>\n",
       "    </tr>\n",
       "  </tbody>\n",
       "</table>\n",
       "<p>5 rows × 21 columns</p>\n",
       "</div>"
      ],
      "text/plain": [
       "         Date      Time    Booking ID   Booking Status   Customer ID  \\\n",
       "0  2024-03-23  12:29:38  \"CNR5884300\"  No Driver Found  \"CID1982111\"   \n",
       "1  2024-11-29  18:01:39  \"CNR1326809\"       Incomplete  \"CID4604802\"   \n",
       "2  2024-08-23  08:56:10  \"CNR8494506\"        Completed  \"CID9202816\"   \n",
       "3  2024-10-21  17:17:25  \"CNR8906825\"        Completed  \"CID2610914\"   \n",
       "4  2024-09-16  22:08:00  \"CNR1950162\"        Completed  \"CID9933542\"   \n",
       "\n",
       "    Vehicle Type      Pickup Location      Drop Location  Avg VTAT  Avg CTAT  \\\n",
       "0          eBike          Palam Vihar            Jhilmil       NaN       NaN   \n",
       "1       Go Sedan        Shastri Nagar  Gurgaon Sector 56       4.9      14.0   \n",
       "2           Auto              Khandsa      Malviya Nagar      13.4      25.8   \n",
       "3  Premier Sedan  Central Secretariat           Inderlok      13.1      28.5   \n",
       "4           Bike     Ghitorni Village        Khan Market       5.3      19.6   \n",
       "\n",
       "   ...  Reason for cancelling by Customer Cancelled Rides by Driver  \\\n",
       "0  ...                                NaN                       NaN   \n",
       "1  ...                                NaN                       NaN   \n",
       "2  ...                                NaN                       NaN   \n",
       "3  ...                                NaN                       NaN   \n",
       "4  ...                                NaN                       NaN   \n",
       "\n",
       "   Driver Cancellation Reason Incomplete Rides  Incomplete Rides Reason  \\\n",
       "0                         NaN              NaN                      NaN   \n",
       "1                         NaN              1.0        Vehicle Breakdown   \n",
       "2                         NaN              NaN                      NaN   \n",
       "3                         NaN              NaN                      NaN   \n",
       "4                         NaN              NaN                      NaN   \n",
       "\n",
       "  Booking Value  Ride Distance  Driver Ratings  Customer Rating  \\\n",
       "0           NaN            NaN             NaN              NaN   \n",
       "1         237.0           5.73             NaN              NaN   \n",
       "2         627.0          13.58             4.9              4.9   \n",
       "3         416.0          34.02             4.6              5.0   \n",
       "4         737.0          48.21             4.1              4.3   \n",
       "\n",
       "   Payment Method  \n",
       "0             NaN  \n",
       "1             UPI  \n",
       "2      Debit Card  \n",
       "3             UPI  \n",
       "4             UPI  \n",
       "\n",
       "[5 rows x 21 columns]"
      ]
     },
     "execution_count": 6,
     "metadata": {},
     "output_type": "execute_result"
    }
   ],
   "source": [
    "# Now i will use the same function again to prove that the warnings are ignored after importing and using the library\n",
    "df.head()"
   ]
  },
  {
   "cell_type": "code",
   "execution_count": 7,
   "id": "e0353203",
   "metadata": {
    "execution": {
     "iopub.execute_input": "2025-08-19T08:40:22.879618Z",
     "iopub.status.busy": "2025-08-19T08:40:22.879257Z",
     "iopub.status.idle": "2025-08-19T08:40:22.908485Z",
     "shell.execute_reply": "2025-08-19T08:40:22.906370Z"
    },
    "papermill": {
     "duration": 0.039683,
     "end_time": "2025-08-19T08:40:22.911594",
     "exception": false,
     "start_time": "2025-08-19T08:40:22.871911",
     "status": "completed"
    },
    "tags": []
   },
   "outputs": [
    {
     "data": {
      "text/html": [
       "<div>\n",
       "<style scoped>\n",
       "    .dataframe tbody tr th:only-of-type {\n",
       "        vertical-align: middle;\n",
       "    }\n",
       "\n",
       "    .dataframe tbody tr th {\n",
       "        vertical-align: top;\n",
       "    }\n",
       "\n",
       "    .dataframe thead th {\n",
       "        text-align: right;\n",
       "    }\n",
       "</style>\n",
       "<table border=\"1\" class=\"dataframe\">\n",
       "  <thead>\n",
       "    <tr style=\"text-align: right;\">\n",
       "      <th></th>\n",
       "      <th>Date</th>\n",
       "      <th>Time</th>\n",
       "      <th>Booking ID</th>\n",
       "      <th>Booking Status</th>\n",
       "      <th>Customer ID</th>\n",
       "      <th>Vehicle Type</th>\n",
       "      <th>Pickup Location</th>\n",
       "      <th>Drop Location</th>\n",
       "      <th>Avg VTAT</th>\n",
       "      <th>Avg CTAT</th>\n",
       "      <th>...</th>\n",
       "      <th>Reason for cancelling by Customer</th>\n",
       "      <th>Cancelled Rides by Driver</th>\n",
       "      <th>Driver Cancellation Reason</th>\n",
       "      <th>Incomplete Rides</th>\n",
       "      <th>Incomplete Rides Reason</th>\n",
       "      <th>Booking Value</th>\n",
       "      <th>Ride Distance</th>\n",
       "      <th>Driver Ratings</th>\n",
       "      <th>Customer Rating</th>\n",
       "      <th>Payment Method</th>\n",
       "    </tr>\n",
       "  </thead>\n",
       "  <tbody>\n",
       "    <tr>\n",
       "      <th>149995</th>\n",
       "      <td>2024-11-11</td>\n",
       "      <td>19:34:01</td>\n",
       "      <td>\"CNR6500631\"</td>\n",
       "      <td>Completed</td>\n",
       "      <td>\"CID4337371\"</td>\n",
       "      <td>Go Mini</td>\n",
       "      <td>MG Road</td>\n",
       "      <td>Ghitorni</td>\n",
       "      <td>10.2</td>\n",
       "      <td>44.4</td>\n",
       "      <td>...</td>\n",
       "      <td>NaN</td>\n",
       "      <td>NaN</td>\n",
       "      <td>NaN</td>\n",
       "      <td>NaN</td>\n",
       "      <td>NaN</td>\n",
       "      <td>475.0</td>\n",
       "      <td>40.08</td>\n",
       "      <td>3.7</td>\n",
       "      <td>4.1</td>\n",
       "      <td>Uber Wallet</td>\n",
       "    </tr>\n",
       "    <tr>\n",
       "      <th>149996</th>\n",
       "      <td>2024-11-24</td>\n",
       "      <td>15:55:09</td>\n",
       "      <td>\"CNR2468611\"</td>\n",
       "      <td>Completed</td>\n",
       "      <td>\"CID2325623\"</td>\n",
       "      <td>Go Mini</td>\n",
       "      <td>Golf Course Road</td>\n",
       "      <td>Akshardham</td>\n",
       "      <td>5.1</td>\n",
       "      <td>30.8</td>\n",
       "      <td>...</td>\n",
       "      <td>NaN</td>\n",
       "      <td>NaN</td>\n",
       "      <td>NaN</td>\n",
       "      <td>NaN</td>\n",
       "      <td>NaN</td>\n",
       "      <td>1093.0</td>\n",
       "      <td>21.31</td>\n",
       "      <td>4.8</td>\n",
       "      <td>5.0</td>\n",
       "      <td>UPI</td>\n",
       "    </tr>\n",
       "    <tr>\n",
       "      <th>149997</th>\n",
       "      <td>2024-09-18</td>\n",
       "      <td>10:55:15</td>\n",
       "      <td>\"CNR6358306\"</td>\n",
       "      <td>Completed</td>\n",
       "      <td>\"CID9925486\"</td>\n",
       "      <td>Go Sedan</td>\n",
       "      <td>Satguru Ram Singh Marg</td>\n",
       "      <td>Jor Bagh</td>\n",
       "      <td>2.7</td>\n",
       "      <td>23.4</td>\n",
       "      <td>...</td>\n",
       "      <td>NaN</td>\n",
       "      <td>NaN</td>\n",
       "      <td>NaN</td>\n",
       "      <td>NaN</td>\n",
       "      <td>NaN</td>\n",
       "      <td>852.0</td>\n",
       "      <td>15.93</td>\n",
       "      <td>3.9</td>\n",
       "      <td>4.4</td>\n",
       "      <td>Cash</td>\n",
       "    </tr>\n",
       "    <tr>\n",
       "      <th>149998</th>\n",
       "      <td>2024-10-05</td>\n",
       "      <td>07:53:34</td>\n",
       "      <td>\"CNR3030099\"</td>\n",
       "      <td>Completed</td>\n",
       "      <td>\"CID9415487\"</td>\n",
       "      <td>Auto</td>\n",
       "      <td>Ghaziabad</td>\n",
       "      <td>Saidulajab</td>\n",
       "      <td>6.9</td>\n",
       "      <td>39.6</td>\n",
       "      <td>...</td>\n",
       "      <td>NaN</td>\n",
       "      <td>NaN</td>\n",
       "      <td>NaN</td>\n",
       "      <td>NaN</td>\n",
       "      <td>NaN</td>\n",
       "      <td>333.0</td>\n",
       "      <td>45.54</td>\n",
       "      <td>4.1</td>\n",
       "      <td>3.7</td>\n",
       "      <td>UPI</td>\n",
       "    </tr>\n",
       "    <tr>\n",
       "      <th>149999</th>\n",
       "      <td>2024-03-10</td>\n",
       "      <td>15:38:03</td>\n",
       "      <td>\"CNR3447390\"</td>\n",
       "      <td>Completed</td>\n",
       "      <td>\"CID4108667\"</td>\n",
       "      <td>Premier Sedan</td>\n",
       "      <td>Ashok Park Main</td>\n",
       "      <td>Gurgaon Sector 29</td>\n",
       "      <td>3.5</td>\n",
       "      <td>33.7</td>\n",
       "      <td>...</td>\n",
       "      <td>NaN</td>\n",
       "      <td>NaN</td>\n",
       "      <td>NaN</td>\n",
       "      <td>NaN</td>\n",
       "      <td>NaN</td>\n",
       "      <td>806.0</td>\n",
       "      <td>21.19</td>\n",
       "      <td>4.6</td>\n",
       "      <td>4.9</td>\n",
       "      <td>Credit Card</td>\n",
       "    </tr>\n",
       "  </tbody>\n",
       "</table>\n",
       "<p>5 rows × 21 columns</p>\n",
       "</div>"
      ],
      "text/plain": [
       "              Date      Time    Booking ID Booking Status   Customer ID  \\\n",
       "149995  2024-11-11  19:34:01  \"CNR6500631\"      Completed  \"CID4337371\"   \n",
       "149996  2024-11-24  15:55:09  \"CNR2468611\"      Completed  \"CID2325623\"   \n",
       "149997  2024-09-18  10:55:15  \"CNR6358306\"      Completed  \"CID9925486\"   \n",
       "149998  2024-10-05  07:53:34  \"CNR3030099\"      Completed  \"CID9415487\"   \n",
       "149999  2024-03-10  15:38:03  \"CNR3447390\"      Completed  \"CID4108667\"   \n",
       "\n",
       "         Vehicle Type         Pickup Location      Drop Location  Avg VTAT  \\\n",
       "149995        Go Mini                 MG Road           Ghitorni      10.2   \n",
       "149996        Go Mini        Golf Course Road         Akshardham       5.1   \n",
       "149997       Go Sedan  Satguru Ram Singh Marg           Jor Bagh       2.7   \n",
       "149998           Auto               Ghaziabad         Saidulajab       6.9   \n",
       "149999  Premier Sedan         Ashok Park Main  Gurgaon Sector 29       3.5   \n",
       "\n",
       "        Avg CTAT  ...  Reason for cancelling by Customer  \\\n",
       "149995      44.4  ...                                NaN   \n",
       "149996      30.8  ...                                NaN   \n",
       "149997      23.4  ...                                NaN   \n",
       "149998      39.6  ...                                NaN   \n",
       "149999      33.7  ...                                NaN   \n",
       "\n",
       "       Cancelled Rides by Driver  Driver Cancellation Reason Incomplete Rides  \\\n",
       "149995                       NaN                         NaN              NaN   \n",
       "149996                       NaN                         NaN              NaN   \n",
       "149997                       NaN                         NaN              NaN   \n",
       "149998                       NaN                         NaN              NaN   \n",
       "149999                       NaN                         NaN              NaN   \n",
       "\n",
       "        Incomplete Rides Reason Booking Value  Ride Distance  Driver Ratings  \\\n",
       "149995                      NaN         475.0          40.08             3.7   \n",
       "149996                      NaN        1093.0          21.31             4.8   \n",
       "149997                      NaN         852.0          15.93             3.9   \n",
       "149998                      NaN         333.0          45.54             4.1   \n",
       "149999                      NaN         806.0          21.19             4.6   \n",
       "\n",
       "        Customer Rating  Payment Method  \n",
       "149995              4.1     Uber Wallet  \n",
       "149996              5.0             UPI  \n",
       "149997              4.4            Cash  \n",
       "149998              3.7             UPI  \n",
       "149999              4.9     Credit Card  \n",
       "\n",
       "[5 rows x 21 columns]"
      ]
     },
     "execution_count": 7,
     "metadata": {},
     "output_type": "execute_result"
    }
   ],
   "source": [
    "# This checks the last few samples on the dataset\n",
    "df.tail()"
   ]
  },
  {
   "cell_type": "code",
   "execution_count": 8,
   "id": "c6ede65c",
   "metadata": {
    "execution": {
     "iopub.execute_input": "2025-08-19T08:40:22.927955Z",
     "iopub.status.busy": "2025-08-19T08:40:22.926797Z",
     "iopub.status.idle": "2025-08-19T08:40:22.940900Z",
     "shell.execute_reply": "2025-08-19T08:40:22.938936Z"
    },
    "papermill": {
     "duration": 0.025338,
     "end_time": "2025-08-19T08:40:22.943194",
     "exception": false,
     "start_time": "2025-08-19T08:40:22.917856",
     "status": "completed"
    },
    "tags": []
   },
   "outputs": [
    {
     "data": {
      "text/plain": [
       "Index(['Date', 'Time', 'Booking ID', 'Booking Status', 'Customer ID',\n",
       "       'Vehicle Type', 'Pickup Location', 'Drop Location', 'Avg VTAT',\n",
       "       'Avg CTAT', 'Cancelled Rides by Customer',\n",
       "       'Reason for cancelling by Customer', 'Cancelled Rides by Driver',\n",
       "       'Driver Cancellation Reason', 'Incomplete Rides',\n",
       "       'Incomplete Rides Reason', 'Booking Value', 'Ride Distance',\n",
       "       'Driver Ratings', 'Customer Rating', 'Payment Method'],\n",
       "      dtype='object')"
      ]
     },
     "execution_count": 8,
     "metadata": {},
     "output_type": "execute_result"
    }
   ],
   "source": [
    "# What are all the columns in the dataset\n",
    "df.columns"
   ]
  },
  {
   "cell_type": "code",
   "execution_count": 9,
   "id": "b75a0efe",
   "metadata": {
    "execution": {
     "iopub.execute_input": "2025-08-19T08:40:22.958565Z",
     "iopub.status.busy": "2025-08-19T08:40:22.958200Z",
     "iopub.status.idle": "2025-08-19T08:40:22.970890Z",
     "shell.execute_reply": "2025-08-19T08:40:22.969469Z"
    },
    "papermill": {
     "duration": 0.022501,
     "end_time": "2025-08-19T08:40:22.973206",
     "exception": false,
     "start_time": "2025-08-19T08:40:22.950705",
     "status": "completed"
    },
    "tags": []
   },
   "outputs": [
    {
     "data": {
      "text/plain": [
       "Date                                  object\n",
       "Time                                  object\n",
       "Booking ID                            object\n",
       "Booking Status                        object\n",
       "Customer ID                           object\n",
       "Vehicle Type                          object\n",
       "Pickup Location                       object\n",
       "Drop Location                         object\n",
       "Avg VTAT                             float64\n",
       "Avg CTAT                             float64\n",
       "Cancelled Rides by Customer          float64\n",
       "Reason for cancelling by Customer     object\n",
       "Cancelled Rides by Driver            float64\n",
       "Driver Cancellation Reason            object\n",
       "Incomplete Rides                     float64\n",
       "Incomplete Rides Reason               object\n",
       "Booking Value                        float64\n",
       "Ride Distance                        float64\n",
       "Driver Ratings                       float64\n",
       "Customer Rating                      float64\n",
       "Payment Method                        object\n",
       "dtype: object"
      ]
     },
     "execution_count": 9,
     "metadata": {},
     "output_type": "execute_result"
    }
   ],
   "source": [
    "# What data types does each column in the dataset contain\n",
    "df.dtypes"
   ]
  },
  {
   "cell_type": "code",
   "execution_count": 10,
   "id": "9b918f4c",
   "metadata": {
    "execution": {
     "iopub.execute_input": "2025-08-19T08:40:22.989280Z",
     "iopub.status.busy": "2025-08-19T08:40:22.988883Z",
     "iopub.status.idle": "2025-08-19T08:40:23.185863Z",
     "shell.execute_reply": "2025-08-19T08:40:23.183964Z"
    },
    "papermill": {
     "duration": 0.20858,
     "end_time": "2025-08-19T08:40:23.188410",
     "exception": false,
     "start_time": "2025-08-19T08:40:22.979830",
     "status": "completed"
    },
    "tags": []
   },
   "outputs": [],
   "source": [
    "'''\n",
    "Now the data types are okay, except for the \"Date\" and \"Time\" columns, which were stored \n",
    "In the data type \"Object\" instead of their respective types, so I will change them. The best \n",
    "way to do that is by combining both the Date and Time into a single column, and converting the data\n",
    "types, and then extracting the Hour, Day, and Weekday from the combined column, thus giving\n",
    "us a more detailed dataset.\n",
    "'''\n",
    "# Combine Date + Time into one column\n",
    "df[\"DateTime\"] = pd.to_datetime(df[\"Date\"].astype(str) + \" \" + df[\"Time\"].astype(str), errors=\"coerce\")\n",
    "\n",
    "# Extract features\n",
    "df[\"Hour\"] = df[\"DateTime\"].dt.hour\n",
    "df[\"Day\"] = df[\"DateTime\"].dt.day\n",
    "df[\"Weekday\"] = df[\"DateTime\"].dt.day_name()\n",
    "\n",
    "# Note: The \"Date\" and \"Time\" columns won't be dropped for further references"
   ]
  },
  {
   "cell_type": "code",
   "execution_count": 11,
   "id": "0e429d82",
   "metadata": {
    "execution": {
     "iopub.execute_input": "2025-08-19T08:40:23.204455Z",
     "iopub.status.busy": "2025-08-19T08:40:23.203149Z",
     "iopub.status.idle": "2025-08-19T08:40:23.212545Z",
     "shell.execute_reply": "2025-08-19T08:40:23.211151Z"
    },
    "papermill": {
     "duration": 0.019394,
     "end_time": "2025-08-19T08:40:23.214498",
     "exception": false,
     "start_time": "2025-08-19T08:40:23.195104",
     "status": "completed"
    },
    "tags": []
   },
   "outputs": [
    {
     "data": {
      "text/plain": [
       "Date                                         object\n",
       "Time                                         object\n",
       "Booking ID                                   object\n",
       "Booking Status                               object\n",
       "Customer ID                                  object\n",
       "Vehicle Type                                 object\n",
       "Pickup Location                              object\n",
       "Drop Location                                object\n",
       "Avg VTAT                                    float64\n",
       "Avg CTAT                                    float64\n",
       "Cancelled Rides by Customer                 float64\n",
       "Reason for cancelling by Customer            object\n",
       "Cancelled Rides by Driver                   float64\n",
       "Driver Cancellation Reason                   object\n",
       "Incomplete Rides                            float64\n",
       "Incomplete Rides Reason                      object\n",
       "Booking Value                               float64\n",
       "Ride Distance                               float64\n",
       "Driver Ratings                              float64\n",
       "Customer Rating                             float64\n",
       "Payment Method                               object\n",
       "DateTime                             datetime64[ns]\n",
       "Hour                                          int32\n",
       "Day                                           int32\n",
       "Weekday                                      object\n",
       "dtype: object"
      ]
     },
     "execution_count": 11,
     "metadata": {},
     "output_type": "execute_result"
    }
   ],
   "source": [
    "df.dtypes"
   ]
  },
  {
   "cell_type": "code",
   "execution_count": 12,
   "id": "d78dbdfa",
   "metadata": {
    "execution": {
     "iopub.execute_input": "2025-08-19T08:40:23.229329Z",
     "iopub.status.busy": "2025-08-19T08:40:23.228941Z",
     "iopub.status.idle": "2025-08-19T08:40:23.583082Z",
     "shell.execute_reply": "2025-08-19T08:40:23.581730Z"
    },
    "papermill": {
     "duration": 0.363707,
     "end_time": "2025-08-19T08:40:23.585067",
     "exception": false,
     "start_time": "2025-08-19T08:40:23.221360",
     "status": "completed"
    },
    "tags": []
   },
   "outputs": [
    {
     "data": {
      "text/plain": [
       "0"
      ]
     },
     "execution_count": 12,
     "metadata": {},
     "output_type": "execute_result"
    }
   ],
   "source": [
    "# Let's check if any of the data values are duplicated\n",
    "df.duplicated().sum()"
   ]
  },
  {
   "cell_type": "code",
   "execution_count": 13,
   "id": "e1450184",
   "metadata": {
    "execution": {
     "iopub.execute_input": "2025-08-19T08:40:23.604512Z",
     "iopub.status.busy": "2025-08-19T08:40:23.603518Z",
     "iopub.status.idle": "2025-08-19T08:40:23.732691Z",
     "shell.execute_reply": "2025-08-19T08:40:23.731517Z"
    },
    "papermill": {
     "duration": 0.141289,
     "end_time": "2025-08-19T08:40:23.734684",
     "exception": false,
     "start_time": "2025-08-19T08:40:23.593395",
     "status": "completed"
    },
    "tags": []
   },
   "outputs": [
    {
     "data": {
      "text/plain": [
       "Date                                      0\n",
       "Time                                      0\n",
       "Booking ID                                0\n",
       "Booking Status                            0\n",
       "Customer ID                               0\n",
       "Vehicle Type                              0\n",
       "Pickup Location                           0\n",
       "Drop Location                             0\n",
       "Avg VTAT                              10500\n",
       "Avg CTAT                              48000\n",
       "Cancelled Rides by Customer          139500\n",
       "Reason for cancelling by Customer    139500\n",
       "Cancelled Rides by Driver            123000\n",
       "Driver Cancellation Reason           123000\n",
       "Incomplete Rides                     141000\n",
       "Incomplete Rides Reason              141000\n",
       "Booking Value                         48000\n",
       "Ride Distance                         48000\n",
       "Driver Ratings                        57000\n",
       "Customer Rating                       57000\n",
       "Payment Method                        48000\n",
       "DateTime                                  0\n",
       "Hour                                      0\n",
       "Day                                       0\n",
       "Weekday                                   0\n",
       "dtype: int64"
      ]
     },
     "execution_count": 13,
     "metadata": {},
     "output_type": "execute_result"
    }
   ],
   "source": [
    "# Now, I want to check if the dataset has any missing values\n",
    "df.isnull().sum()"
   ]
  },
  {
   "cell_type": "code",
   "execution_count": 14,
   "id": "a8ebbd42",
   "metadata": {
    "execution": {
     "iopub.execute_input": "2025-08-19T08:40:23.750512Z",
     "iopub.status.busy": "2025-08-19T08:40:23.750035Z",
     "iopub.status.idle": "2025-08-19T08:40:23.865778Z",
     "shell.execute_reply": "2025-08-19T08:40:23.864681Z"
    },
    "papermill": {
     "duration": 0.126342,
     "end_time": "2025-08-19T08:40:23.867876",
     "exception": false,
     "start_time": "2025-08-19T08:40:23.741534",
     "status": "completed"
    },
    "tags": []
   },
   "outputs": [
    {
     "data": {
      "text/plain": [
       "Date                                  0.0\n",
       "Time                                  0.0\n",
       "Booking ID                            0.0\n",
       "Booking Status                        0.0\n",
       "Customer ID                           0.0\n",
       "Vehicle Type                          0.0\n",
       "Pickup Location                       0.0\n",
       "Drop Location                         0.0\n",
       "Avg VTAT                              7.0\n",
       "Avg CTAT                             32.0\n",
       "Cancelled Rides by Customer          93.0\n",
       "Reason for cancelling by Customer    93.0\n",
       "Cancelled Rides by Driver            82.0\n",
       "Driver Cancellation Reason           82.0\n",
       "Incomplete Rides                     94.0\n",
       "Incomplete Rides Reason              94.0\n",
       "Booking Value                        32.0\n",
       "Ride Distance                        32.0\n",
       "Driver Ratings                       38.0\n",
       "Customer Rating                      38.0\n",
       "Payment Method                       32.0\n",
       "DateTime                              0.0\n",
       "Hour                                  0.0\n",
       "Day                                   0.0\n",
       "Weekday                               0.0\n",
       "dtype: float64"
      ]
     },
     "execution_count": 14,
     "metadata": {},
     "output_type": "execute_result"
    }
   ],
   "source": [
    "# Let me confirm the percentage of the missing values to decide whether to drop them or impute them\n",
    "df.isnull().mean()*100"
   ]
  },
  {
   "cell_type": "code",
   "execution_count": 15,
   "id": "3c26c871",
   "metadata": {
    "execution": {
     "iopub.execute_input": "2025-08-19T08:40:23.883359Z",
     "iopub.status.busy": "2025-08-19T08:40:23.882936Z",
     "iopub.status.idle": "2025-08-19T08:40:23.917579Z",
     "shell.execute_reply": "2025-08-19T08:40:23.916017Z"
    },
    "papermill": {
     "duration": 0.044971,
     "end_time": "2025-08-19T08:40:23.919820",
     "exception": false,
     "start_time": "2025-08-19T08:40:23.874849",
     "status": "completed"
    },
    "tags": []
   },
   "outputs": [
    {
     "data": {
      "text/plain": [
       "\"\\nNote: I dropped the columns with a high missing percentage because they cannot be imputed.\\nIf we do that, we will have a noisy and almost meaningless dataset. Imagine we impute the \\ncolumn with 94% missing values, this means only 6% is legit, whereas the rest aren't. So, the\\nbest approach is to drop them if too many, and impute if moderate or very few.\\n\""
      ]
     },
     "execution_count": 15,
     "metadata": {},
     "output_type": "execute_result"
    }
   ],
   "source": [
    "# Now I can drop the irrelevant columns and those with a high missing percentage\n",
    "drop_cols = [\n",
    "    \"Date\", \"Time\", \n",
    "    \"Cancelled Rides by Customer\", \"Reason for cancelling by Customer\",\n",
    "    \"Cancelled Rides by Driver\", \"Driver Cancellation Reason\",\n",
    "    \"Incomplete Rides\", \"Incomplete Rides Reason\"\n",
    "]\n",
    "df.drop(columns=drop_cols, inplace=True)\n",
    "\n",
    "'''\n",
    "Note: I dropped the columns with a high missing percentage because they cannot be imputed.\n",
    "If we do that, we will have a noisy and almost meaningless dataset. Imagine we impute the \n",
    "column with 94% missing values, this means only 6% is legit, whereas the rest aren't. So, the\n",
    "best approach is to drop them if too many, and impute if moderate or very few.\n",
    "'''"
   ]
  },
  {
   "cell_type": "code",
   "execution_count": 16,
   "id": "6240f30a",
   "metadata": {
    "execution": {
     "iopub.execute_input": "2025-08-19T08:40:23.936036Z",
     "iopub.status.busy": "2025-08-19T08:40:23.935567Z",
     "iopub.status.idle": "2025-08-19T08:40:24.001129Z",
     "shell.execute_reply": "2025-08-19T08:40:23.999814Z"
    },
    "papermill": {
     "duration": 0.076795,
     "end_time": "2025-08-19T08:40:24.003885",
     "exception": false,
     "start_time": "2025-08-19T08:40:23.927090",
     "status": "completed"
    },
    "tags": []
   },
   "outputs": [
    {
     "data": {
      "text/plain": [
       "'\\nNow, I used the median for the numeric data instead of the mean because it avoids skew from outliers,\\nand the mode for the categorical data previes the most likely category based on the frequency\\n'"
      ]
     },
     "execution_count": 16,
     "metadata": {},
     "output_type": "execute_result"
    }
   ],
   "source": [
    "# Impute moderate missing numeric columns \n",
    "numeric_cols = [\"Avg VTAT\", \"Avg CTAT\", \"Booking Value\", \"Ride Distance\", \"Driver Ratings\", \"Customer Rating\"]\n",
    "for col in numeric_cols:\n",
    "    median_val = df[col].median()  # median is robust against outliers\n",
    "    df[col].fillna(median_val, inplace=True)\n",
    "\n",
    "# Impute moderate missing categorical columns \n",
    "categorical_cols = [\"Payment Method\"]\n",
    "for col in categorical_cols:\n",
    "    mode_val = df[col].mode()[0]  # most frequent value\n",
    "    df[col].fillna(mode_val, inplace=True)\n",
    "\n",
    "'''\n",
    "Now, I used the median for the numeric data instead of the mean because it avoids skew from outliers,\n",
    "and the mode for the categorical data previes the most likely category based on the frequency\n",
    "'''"
   ]
  },
  {
   "cell_type": "code",
   "execution_count": 17,
   "id": "a38462f2",
   "metadata": {
    "execution": {
     "iopub.execute_input": "2025-08-19T08:40:24.021273Z",
     "iopub.status.busy": "2025-08-19T08:40:24.020845Z",
     "iopub.status.idle": "2025-08-19T08:40:24.109380Z",
     "shell.execute_reply": "2025-08-19T08:40:24.108180Z"
    },
    "papermill": {
     "duration": 0.100361,
     "end_time": "2025-08-19T08:40:24.111795",
     "exception": false,
     "start_time": "2025-08-19T08:40:24.011434",
     "status": "completed"
    },
    "tags": []
   },
   "outputs": [
    {
     "data": {
      "text/plain": [
       "Booking ID         0\n",
       "Booking Status     0\n",
       "Customer ID        0\n",
       "Vehicle Type       0\n",
       "Pickup Location    0\n",
       "Drop Location      0\n",
       "Avg VTAT           0\n",
       "Avg CTAT           0\n",
       "Booking Value      0\n",
       "Ride Distance      0\n",
       "Driver Ratings     0\n",
       "Customer Rating    0\n",
       "Payment Method     0\n",
       "DateTime           0\n",
       "Hour               0\n",
       "Day                0\n",
       "Weekday            0\n",
       "dtype: int64"
      ]
     },
     "execution_count": 17,
     "metadata": {},
     "output_type": "execute_result"
    }
   ],
   "source": [
    "# Now, I will confirm if there are any missing values\n",
    "df.isnull().sum()"
   ]
  },
  {
   "cell_type": "code",
   "execution_count": 18,
   "id": "84f39ecc",
   "metadata": {
    "execution": {
     "iopub.execute_input": "2025-08-19T08:40:24.130235Z",
     "iopub.status.busy": "2025-08-19T08:40:24.128865Z",
     "iopub.status.idle": "2025-08-19T08:40:26.891960Z",
     "shell.execute_reply": "2025-08-19T08:40:26.890955Z"
    },
    "papermill": {
     "duration": 2.774785,
     "end_time": "2025-08-19T08:40:26.894148",
     "exception": false,
     "start_time": "2025-08-19T08:40:24.119363",
     "status": "completed"
    },
    "tags": []
   },
   "outputs": [],
   "source": [
    "# Importing more libraries for the visualization\n",
    "import seaborn as sns\n",
    "\n",
    "plt.style.use(\"ggplot\")\n",
    "sns.set_palette(\"pastel\")"
   ]
  },
  {
   "cell_type": "code",
   "execution_count": 19,
   "id": "d474bab3",
   "metadata": {
    "execution": {
     "iopub.execute_input": "2025-08-19T08:40:26.910617Z",
     "iopub.status.busy": "2025-08-19T08:40:26.910084Z",
     "iopub.status.idle": "2025-08-19T08:40:27.532621Z",
     "shell.execute_reply": "2025-08-19T08:40:27.531169Z"
    },
    "papermill": {
     "duration": 0.633845,
     "end_time": "2025-08-19T08:40:27.535523",
     "exception": false,
     "start_time": "2025-08-19T08:40:26.901678",
     "status": "completed"
    },
    "tags": []
   },
   "outputs": [
    {
     "data": {
      "image/png": "[encoded data removed]",
      "text/plain": [
       "<Figure size 1000x500 with 1 Axes>"
      ]
     },
     "metadata": {},
     "output_type": "display_data"
    }
   ],
   "source": [
    "# Rides by Hour\n",
    "plt.figure(figsize=(10,5))\n",
    "sns.countplot(x='Hour', data=df)\n",
    "plt.title(\"Uber Rides by Hour\")\n",
    "plt.xlabel(\"Hour of Day\")\n",
    "plt.ylabel(\"Number of Rides\")\n",
    "plt.show()\n"
   ]
  },
  {
   "cell_type": "code",
   "execution_count": 20,
   "id": "53c6d326",
   "metadata": {
    "execution": {
     "iopub.execute_input": "2025-08-19T08:40:27.554933Z",
     "iopub.status.busy": "2025-08-19T08:40:27.554525Z",
     "iopub.status.idle": "2025-08-19T08:40:27.861453Z",
     "shell.execute_reply": "2025-08-19T08:40:27.858590Z"
    },
    "papermill": {
     "duration": 0.319981,
     "end_time": "2025-08-19T08:40:27.863643",
     "exception": false,
     "start_time": "2025-08-19T08:40:27.543662",
     "status": "completed"
    },
    "tags": []
   },
   "outputs": [
    {
     "data": {
      "image/png": "[encoded data removed]",
      "text/plain": [
       "<Figure size 1000x500 with 1 Axes>"
      ]
     },
     "metadata": {},
     "output_type": "display_data"
    }
   ],
   "source": [
    "# Rides by Weekday\n",
    "plt.figure(figsize=(10,5))\n",
    "sns.countplot(x='Weekday', data=df, order=['Monday','Tuesday','Wednesday','Thursday','Friday','Saturday','Sunday'])\n",
    "plt.title(\"Uber Rides by Weekday\")\n",
    "plt.xlabel(\"Weekday\")\n",
    "plt.ylabel(\"Number of Rides\")\n",
    "plt.show()"
   ]
  },
  {
   "cell_type": "code",
   "execution_count": 21,
   "id": "8aaf9c01",
   "metadata": {
    "execution": {
     "iopub.execute_input": "2025-08-19T08:40:27.887793Z",
     "iopub.status.busy": "2025-08-19T08:40:27.886121Z",
     "iopub.status.idle": "2025-08-19T08:40:28.228937Z",
     "shell.execute_reply": "2025-08-19T08:40:28.227724Z"
    },
    "papermill": {
     "duration": 0.355035,
     "end_time": "2025-08-19T08:40:28.231221",
     "exception": false,
     "start_time": "2025-08-19T08:40:27.876186",
     "status": "completed"
    },
    "tags": []
   },
   "outputs": [
    {
     "data": {
      "image/png": "[encoded data removed]",
      "text/plain": [
       "<Figure size 800x500 with 1 Axes>"
      ]
     },
     "metadata": {},
     "output_type": "display_data"
    }
   ],
   "source": [
    "# Distribution of rides by Vehicle Type\n",
    "plt.figure(figsize=(8,5))\n",
    "sns.countplot(x='Vehicle Type', data=df)\n",
    "plt.title(\"Uber Rides by Vehicle Type\")\n",
    "plt.xlabel(\"Vehicle Type\")\n",
    "plt.ylabel(\"Number of Rides\")\n",
    "plt.show()"
   ]
  },
  {
   "cell_type": "code",
   "execution_count": 22,
   "id": "d69a56d2",
   "metadata": {
    "execution": {
     "iopub.execute_input": "2025-08-19T08:40:28.253850Z",
     "iopub.status.busy": "2025-08-19T08:40:28.253423Z",
     "iopub.status.idle": "2025-08-19T08:40:29.217458Z",
     "shell.execute_reply": "2025-08-19T08:40:29.216063Z"
    },
    "papermill": {
     "duration": 0.977824,
     "end_time": "2025-08-19T08:40:29.219599",
     "exception": false,
     "start_time": "2025-08-19T08:40:28.241775",
     "status": "completed"
    },
    "tags": []
   },
   "outputs": [
    {
     "data": {
      "image/png": "[encoded data removed]",
      "text/plain": [
       "<Figure size 1200x600 with 1 Axes>"
      ]
     },
     "metadata": {},
     "output_type": "display_data"
    }
   ],
   "source": [
    "# Vehicle Type vs Hour (stacked pattern)\n",
    "plt.figure(figsize=(12,6))\n",
    "sns.countplot(x='Hour', hue='Vehicle Type', data=df)\n",
    "plt.title(\"Uber Rides by Hour and Vehicle Type\")\n",
    "plt.xlabel(\"Hour\")\n",
    "plt.ylabel(\"Number of Rides\")\n",
    "plt.legend(title='Vehicle Type')\n",
    "plt.show()"
   ]
  }
 ],
 "metadata": {
  "kaggle": {
   "accelerator": "none",
   "dataSources": [
    {
     "datasetId": 8032385,
     "sourceId": 12709507,
     "sourceType": "datasetVersion"
    }
   ],
   "dockerImageVersionId": 31089,
   "isGpuEnabled": false,
   "isInternetEnabled": true,
   "language": "python",
   "sourceType": "notebook"
  },
  "kernelspec": {
   "display_name": "Python 3",
   "language": "python",
   "name": "python3"
  },
  "language_info": {
   "codemirror_mode": {
    "name": "ipython",
    "version": 3
   },
   "file_extension": ".py",
   "mimetype": "text/x-python",
   "name": "python",
   "nbconvert_exporter": "python",
   "pygments_lexer": "ipython3",
   "version": "3.11.13"
  },
  "papermill": {
   "default_parameters": {},
   "duration": 20.556635,
   "end_time": "2025-08-19T08:40:30.156822",
   "environment_variables": {},
   "exception": null,
   "input_path": "__notebook__.ipynb",
   "output_path": "__notebook__.ipynb",
   "parameters": {},
   "start_time": "2025-08-19T08:40:09.600187",
   "version": "2.6.0"
  }
 },
 "nbformat": 4,
 "nbformat_minor": 5
}
