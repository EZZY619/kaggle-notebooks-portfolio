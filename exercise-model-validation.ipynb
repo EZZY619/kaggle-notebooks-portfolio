{
 "cells": [
  {
   "cell_type": "markdown",
   "id": "e433ad6a",
   "metadata": {
    "papermill": {
     "duration": 0.004095,
     "end_time": "2025-08-10T21:21:23.437228",
     "exception": false,
     "start_time": "2025-08-10T21:21:23.433133",
     "status": "completed"
    },
    "tags": []
   },
   "source": [
    "**This notebook is an exercise in the [Introduction to Machine Learning](https://www.kaggle.com/learn/intro-to-machine-learning) course.  You can reference the tutorial at [this link](https://www.kaggle.com/dansbecker/model-validation).**\n",
    "\n",
    "---\n"
   ]
  },
  {
   "cell_type": "markdown",
   "id": "5ed806db",
   "metadata": {
    "papermill": {
     "duration": 0.003009,
     "end_time": "2025-08-10T21:21:23.444019",
     "exception": false,
     "start_time": "2025-08-10T21:21:23.441010",
     "status": "completed"
    },
    "tags": []
   },
   "source": [
    "## Recap\n",
    "You've built a model. In this exercise you will test how good your model is.\n",
    "\n",
    "Run the cell below to set up your coding environment where the previous exercise left off."
   ]
  },
  {
   "cell_type": "code",
   "execution_count": 1,
   "id": "cdd733e7",
   "metadata": {
    "execution": {
     "iopub.execute_input": "2025-08-10T21:21:23.452267Z",
     "iopub.status.busy": "2025-08-10T21:21:23.451872Z",
     "iopub.status.idle": "2025-08-10T21:21:27.363642Z",
     "shell.execute_reply": "2025-08-10T21:21:27.362616Z"
    },
    "papermill": {
     "duration": 3.918103,
     "end_time": "2025-08-10T21:21:27.365481",
     "exception": false,
     "start_time": "2025-08-10T21:21:23.447378",
     "status": "completed"
    },
    "tags": []
   },
   "outputs": [
    {
     "name": "stdout",
     "output_type": "stream",
     "text": [
      "First in-sample predictions: [208500. 181500. 223500. 140000. 250000.]\n",
      "Actual target values for those homes: [208500, 181500, 223500, 140000, 250000]\n",
      "Setup Complete\n"
     ]
    }
   ],
   "source": [
    "# Code you have previously used to load data\n",
    "import pandas as pd\n",
    "from sklearn.tree import DecisionTreeRegressor\n",
    "\n",
    "# Path of the file to read\n",
    "iowa_file_path = '../input/home-data-for-ml-course/train.csv'\n",
    "\n",
    "home_data = pd.read_csv(iowa_file_path)\n",
    "y = home_data.SalePrice\n",
    "feature_columns = ['LotArea', 'YearBuilt', '1stFlrSF', '2ndFlrSF', 'FullBath', 'BedroomAbvGr', 'TotRmsAbvGrd']\n",
    "X = home_data[feature_columns]\n",
    "\n",
    "# Specify Model\n",
    "iowa_model = DecisionTreeRegressor()\n",
    "# Fit Model\n",
    "iowa_model.fit(X, y)\n",
    "\n",
    "print(\"First in-sample predictions:\", iowa_model.predict(X.head()))\n",
    "print(\"Actual target values for those homes:\", y.head().tolist())\n",
    "\n",
    "# Set up code checking\n",
    "from learntools.core import binder\n",
    "binder.bind(globals())\n",
    "from learntools.machine_learning.ex4 import *\n",
    "print(\"Setup Complete\")"
   ]
  },
  {
   "cell_type": "markdown",
   "id": "c2d07569",
   "metadata": {
    "papermill": {
     "duration": 0.003152,
     "end_time": "2025-08-10T21:21:27.372112",
     "exception": false,
     "start_time": "2025-08-10T21:21:27.368960",
     "status": "completed"
    },
    "tags": []
   },
   "source": [
    "# Exercises\n",
    "\n",
    "## Step 1: Split Your Data\n",
    "Use the `train_test_split` function to split up your data.\n",
    "\n",
    "Give it the argument `random_state=1` so the `check` functions know what to expect when verifying your code.\n",
    "\n",
    "Recall, your features are loaded in the DataFrame **X** and your target is loaded in **y**.\n"
   ]
  },
  {
   "cell_type": "code",
   "execution_count": 2,
   "id": "86b80e2a",
   "metadata": {
    "execution": {
     "iopub.execute_input": "2025-08-10T21:21:27.380496Z",
     "iopub.status.busy": "2025-08-10T21:21:27.380137Z",
     "iopub.status.idle": "2025-08-10T21:21:27.396605Z",
     "shell.execute_reply": "2025-08-10T21:21:27.395575Z"
    },
    "papermill": {
     "duration": 0.022456,
     "end_time": "2025-08-10T21:21:27.398062",
     "exception": false,
     "start_time": "2025-08-10T21:21:27.375606",
     "status": "completed"
    },
    "tags": []
   },
   "outputs": [
    {
     "data": {
      "application/javascript": [
       "parent.postMessage({\"jupyterEvent\": \"custom.exercise_interaction\", \"data\": {\"outcomeType\": 1, \"valueTowardsCompletion\": 0.25, \"interactionType\": 1, \"questionType\": 2, \"questionId\": \"1_SplitData\", \"learnToolsVersion\": \"0.3.5\", \"failureMessage\": \"\", \"exceptionClass\": \"\", \"trace\": \"\"}}, \"*\")"
      ],
      "text/plain": [
       "<IPython.core.display.Javascript object>"
      ]
     },
     "metadata": {},
     "output_type": "display_data"
    },
    {
     "data": {
      "text/markdown": [
       "<span style=\"color:#33cc33\">Correct</span>"
      ],
      "text/plain": [
       "Correct"
      ]
     },
     "metadata": {},
     "output_type": "display_data"
    }
   ],
   "source": [
    "# Import the train_test_split function and uncomment\n",
    "from sklearn.model_selection import train_test_split\n",
    "\n",
    "# fill in and uncomment\n",
    "train_X, val_X, train_y, val_y = train_test_split(X, y, random_state=1)\n",
    "\n",
    "# Check your answer\n",
    "step_1.check()"
   ]
  },
  {
   "cell_type": "code",
   "execution_count": 3,
   "id": "8a198201",
   "metadata": {
    "execution": {
     "iopub.execute_input": "2025-08-10T21:21:27.406833Z",
     "iopub.status.busy": "2025-08-10T21:21:27.406166Z",
     "iopub.status.idle": "2025-08-10T21:21:27.410107Z",
     "shell.execute_reply": "2025-08-10T21:21:27.409228Z"
    },
    "papermill": {
     "duration": 0.009903,
     "end_time": "2025-08-10T21:21:27.411589",
     "exception": false,
     "start_time": "2025-08-10T21:21:27.401686",
     "status": "completed"
    },
    "tags": []
   },
   "outputs": [],
   "source": [
    "# The lines below will show you a hint or the solution.\n",
    "# step_1.hint() \n",
    "# step_1.solution()\n"
   ]
  },
  {
   "cell_type": "markdown",
   "id": "cf858e9e",
   "metadata": {
    "papermill": {
     "duration": 0.003164,
     "end_time": "2025-08-10T21:21:27.418496",
     "exception": false,
     "start_time": "2025-08-10T21:21:27.415332",
     "status": "completed"
    },
    "tags": []
   },
   "source": [
    "## Step 2: Specify and Fit the Model\n",
    "\n",
    "Create a `DecisionTreeRegressor` model and fit it to the relevant data.\n",
    "Set `random_state` to 1 again when creating the model."
   ]
  },
  {
   "cell_type": "code",
   "execution_count": 4,
   "id": "da7d5f75",
   "metadata": {
    "execution": {
     "iopub.execute_input": "2025-08-10T21:21:27.426521Z",
     "iopub.status.busy": "2025-08-10T21:21:27.426194Z",
     "iopub.status.idle": "2025-08-10T21:21:27.451275Z",
     "shell.execute_reply": "2025-08-10T21:21:27.450371Z"
    },
    "papermill": {
     "duration": 0.030826,
     "end_time": "2025-08-10T21:21:27.452643",
     "exception": false,
     "start_time": "2025-08-10T21:21:27.421817",
     "status": "completed"
    },
    "tags": []
   },
   "outputs": [
    {
     "name": "stdout",
     "output_type": "stream",
     "text": [
      "[186500. 184000. 130000.  92000. 164500. 220000. 335000. 144152. 215000.\n",
      " 262000.]\n",
      "[186500. 184000. 130000.  92000. 164500. 220000. 335000. 144152. 215000.\n",
      " 262000.]\n"
     ]
    },
    {
     "data": {
      "application/javascript": [
       "parent.postMessage({\"jupyterEvent\": \"custom.exercise_interaction\", \"data\": {\"outcomeType\": 1, \"valueTowardsCompletion\": 0.25, \"interactionType\": 1, \"questionType\": 2, \"questionId\": \"2_FitModelWithTrain\", \"learnToolsVersion\": \"0.3.5\", \"failureMessage\": \"\", \"exceptionClass\": \"\", \"trace\": \"\"}}, \"*\")"
      ],
      "text/plain": [
       "<IPython.core.display.Javascript object>"
      ]
     },
     "metadata": {},
     "output_type": "display_data"
    },
    {
     "data": {
      "text/markdown": [
       "<span style=\"color:#33cc33\">Correct</span>"
      ],
      "text/plain": [
       "Correct"
      ]
     },
     "metadata": {},
     "output_type": "display_data"
    }
   ],
   "source": [
    "# You imported DecisionTreeRegressor in your last exercise\n",
    "# and that code has been copied to the setup code above. So, no need to\n",
    "# import it again\n",
    "\n",
    "# Specify the model\n",
    "iowa_model = DecisionTreeRegressor(random_state=1)\n",
    "\n",
    "# Fit iowa_model with the training data.\n",
    "iowa_model.fit(train_X, train_y)\n",
    "\n",
    "# Check your answer\n",
    "step_2.check()"
   ]
  },
  {
   "cell_type": "code",
   "execution_count": 5,
   "id": "24521f16",
   "metadata": {
    "execution": {
     "iopub.execute_input": "2025-08-10T21:21:27.461550Z",
     "iopub.status.busy": "2025-08-10T21:21:27.461233Z",
     "iopub.status.idle": "2025-08-10T21:21:27.465052Z",
     "shell.execute_reply": "2025-08-10T21:21:27.464278Z"
    },
    "papermill": {
     "duration": 0.010026,
     "end_time": "2025-08-10T21:21:27.466696",
     "exception": false,
     "start_time": "2025-08-10T21:21:27.456670",
     "status": "completed"
    },
    "tags": []
   },
   "outputs": [],
   "source": [
    "# step_2.hint()\n",
    "#step_2.solution()"
   ]
  },
  {
   "cell_type": "markdown",
   "id": "0f9568ad",
   "metadata": {
    "papermill": {
     "duration": 0.003469,
     "end_time": "2025-08-10T21:21:27.473996",
     "exception": false,
     "start_time": "2025-08-10T21:21:27.470527",
     "status": "completed"
    },
    "tags": []
   },
   "source": [
    "## Step 3: Make Predictions with Validation data\n"
   ]
  },
  {
   "cell_type": "code",
   "execution_count": 6,
   "id": "9cd70df2",
   "metadata": {
    "execution": {
     "iopub.execute_input": "2025-08-10T21:21:27.483566Z",
     "iopub.status.busy": "2025-08-10T21:21:27.483236Z",
     "iopub.status.idle": "2025-08-10T21:21:27.493603Z",
     "shell.execute_reply": "2025-08-10T21:21:27.492555Z"
    },
    "papermill": {
     "duration": 0.016575,
     "end_time": "2025-08-10T21:21:27.495210",
     "exception": false,
     "start_time": "2025-08-10T21:21:27.478635",
     "status": "completed"
    },
    "tags": []
   },
   "outputs": [
    {
     "data": {
      "application/javascript": [
       "parent.postMessage({\"jupyterEvent\": \"custom.exercise_interaction\", \"data\": {\"outcomeType\": 1, \"valueTowardsCompletion\": 0.25, \"interactionType\": 1, \"questionType\": 2, \"questionId\": \"3_ValPreds\", \"learnToolsVersion\": \"0.3.5\", \"failureMessage\": \"\", \"exceptionClass\": \"\", \"trace\": \"\"}}, \"*\")"
      ],
      "text/plain": [
       "<IPython.core.display.Javascript object>"
      ]
     },
     "metadata": {},
     "output_type": "display_data"
    },
    {
     "data": {
      "text/markdown": [
       "<span style=\"color:#33cc33\">Correct</span>"
      ],
      "text/plain": [
       "Correct"
      ]
     },
     "metadata": {},
     "output_type": "display_data"
    }
   ],
   "source": [
    "# Predict with all validation observations\n",
    "val_predictions = iowa_model.predict(val_X)\n",
    "# Check your answer\n",
    "step_3.check()"
   ]
  },
  {
   "cell_type": "code",
   "execution_count": 7,
   "id": "d24adc6a",
   "metadata": {
    "execution": {
     "iopub.execute_input": "2025-08-10T21:21:27.505254Z",
     "iopub.status.busy": "2025-08-10T21:21:27.504602Z",
     "iopub.status.idle": "2025-08-10T21:21:27.508881Z",
     "shell.execute_reply": "2025-08-10T21:21:27.507826Z"
    },
    "papermill": {
     "duration": 0.010837,
     "end_time": "2025-08-10T21:21:27.510407",
     "exception": false,
     "start_time": "2025-08-10T21:21:27.499570",
     "status": "completed"
    },
    "tags": []
   },
   "outputs": [],
   "source": [
    "# step_3.hint()\n",
    "# step_3.solution()"
   ]
  },
  {
   "cell_type": "markdown",
   "id": "bd1d1bf0",
   "metadata": {
    "papermill": {
     "duration": 0.003836,
     "end_time": "2025-08-10T21:21:27.518340",
     "exception": false,
     "start_time": "2025-08-10T21:21:27.514504",
     "status": "completed"
    },
    "tags": []
   },
   "source": [
    "Inspect your predictions and actual values from validation data."
   ]
  },
  {
   "cell_type": "code",
   "execution_count": 8,
   "id": "41687041",
   "metadata": {
    "execution": {
     "iopub.execute_input": "2025-08-10T21:21:27.527994Z",
     "iopub.status.busy": "2025-08-10T21:21:27.527068Z",
     "iopub.status.idle": "2025-08-10T21:21:27.539923Z",
     "shell.execute_reply": "2025-08-10T21:21:27.538777Z"
    },
    "papermill": {
     "duration": 0.019298,
     "end_time": "2025-08-10T21:21:27.541556",
     "exception": false,
     "start_time": "2025-08-10T21:21:27.522258",
     "status": "completed"
    },
    "tags": []
   },
   "outputs": [
    {
     "name": "stdout",
     "output_type": "stream",
     "text": [
      "      LotArea  YearBuilt  1stFlrSF  2ndFlrSF  FullBath  BedroomAbvGr  \\\n",
      "258     12435       2001       963       829         2             3   \n",
      "267      8400       1939      1052       720         2             4   \n",
      "288      9819       1967       900         0         1             3   \n",
      "649      1936       1970       630         0         1             1   \n",
      "1233    12160       1959      1188         0         1             3   \n",
      "\n",
      "      TotRmsAbvGrd  \n",
      "258              7  \n",
      "267              8  \n",
      "288              5  \n",
      "649              3  \n",
      "1233             6  \n",
      "   LotArea  YearBuilt  1stFlrSF  2ndFlrSF  FullBath  BedroomAbvGr  \\\n",
      "0     8450       2003       856       854         2             3   \n",
      "1     9600       1976      1262         0         2             3   \n",
      "2    11250       2001       920       866         2             3   \n",
      "3     9550       1915       961       756         1             3   \n",
      "4    14260       2000      1145      1053         2             4   \n",
      "\n",
      "   TotRmsAbvGrd  \n",
      "0             8  \n",
      "1             6  \n",
      "2             6  \n",
      "3             7  \n",
      "4             9  \n"
     ]
    }
   ],
   "source": [
    "# print the top few validation predictions\n",
    "print(val_X.head())\n",
    "# print the top few actual prices from validation data\n",
    "print(X.head())"
   ]
  },
  {
   "cell_type": "markdown",
   "id": "ac5a3bd5",
   "metadata": {
    "papermill": {
     "duration": 0.004045,
     "end_time": "2025-08-10T21:21:27.549705",
     "exception": false,
     "start_time": "2025-08-10T21:21:27.545660",
     "status": "completed"
    },
    "tags": []
   },
   "source": [
    "What do you notice that is different from what you saw with in-sample predictions (which are printed after the top code cell in this page).\n",
    "\n",
    "Do you remember why validation predictions differ from in-sample (or training) predictions? This is an important idea from the last lesson.\n",
    "\n",
    "## Step 4: Calculate the Mean Absolute Error in Validation Data\n"
   ]
  },
  {
   "cell_type": "code",
   "execution_count": 9,
   "id": "1a74e242",
   "metadata": {
    "execution": {
     "iopub.execute_input": "2025-08-10T21:21:27.559236Z",
     "iopub.status.busy": "2025-08-10T21:21:27.558519Z",
     "iopub.status.idle": "2025-08-10T21:21:27.567490Z",
     "shell.execute_reply": "2025-08-10T21:21:27.566652Z"
    },
    "papermill": {
     "duration": 0.015206,
     "end_time": "2025-08-10T21:21:27.568825",
     "exception": false,
     "start_time": "2025-08-10T21:21:27.553619",
     "status": "completed"
    },
    "tags": []
   },
   "outputs": [
    {
     "name": "stdout",
     "output_type": "stream",
     "text": [
      "29652.931506849316\n"
     ]
    },
    {
     "data": {
      "application/javascript": [
       "parent.postMessage({\"jupyterEvent\": \"custom.exercise_interaction\", \"data\": {\"outcomeType\": 1, \"valueTowardsCompletion\": 0.25, \"interactionType\": 1, \"questionType\": 1, \"questionId\": \"4_MAE\", \"learnToolsVersion\": \"0.3.5\", \"failureMessage\": \"\", \"exceptionClass\": \"\", \"trace\": \"\"}}, \"*\")"
      ],
      "text/plain": [
       "<IPython.core.display.Javascript object>"
      ]
     },
     "metadata": {},
     "output_type": "display_data"
    },
    {
     "data": {
      "text/markdown": [
       "<span style=\"color:#33cc33\">Correct</span>"
      ],
      "text/plain": [
       "Correct"
      ]
     },
     "metadata": {},
     "output_type": "display_data"
    }
   ],
   "source": [
    "from sklearn.metrics import mean_absolute_error\n",
    "val_mae = mean_absolute_error(val_y, val_predictions)\n",
    "\n",
    "# uncomment following line to see the validation_mae\n",
    "print(val_mae)\n",
    "\n",
    "# Check your answer\n",
    "step_4.check()"
   ]
  },
  {
   "cell_type": "code",
   "execution_count": 10,
   "id": "a98fc670",
   "metadata": {
    "execution": {
     "iopub.execute_input": "2025-08-10T21:21:27.578802Z",
     "iopub.status.busy": "2025-08-10T21:21:27.578167Z",
     "iopub.status.idle": "2025-08-10T21:21:27.581884Z",
     "shell.execute_reply": "2025-08-10T21:21:27.581172Z"
    },
    "papermill": {
     "duration": 0.010074,
     "end_time": "2025-08-10T21:21:27.583281",
     "exception": false,
     "start_time": "2025-08-10T21:21:27.573207",
     "status": "completed"
    },
    "tags": []
   },
   "outputs": [],
   "source": [
    "# step_4.hint()\n",
    "# step_4.solution()"
   ]
  },
  {
   "cell_type": "markdown",
   "id": "daa8df35",
   "metadata": {
    "papermill": {
     "duration": 0.003868,
     "end_time": "2025-08-10T21:21:27.591472",
     "exception": false,
     "start_time": "2025-08-10T21:21:27.587604",
     "status": "completed"
    },
    "tags": []
   },
   "source": [
    "Is that MAE good?  There isn't a general rule for what values are good that applies across applications. But you'll see how to use (and improve) this number in the next step.\n",
    "\n",
    "# Keep Going\n",
    "\n",
    "You are ready for **[Underfitting and Overfitting](https://www.kaggle.com/dansbecker/underfitting-and-overfitting).**\n"
   ]
  },
  {
   "cell_type": "markdown",
   "id": "e12785fd",
   "metadata": {
    "papermill": {
     "duration": 0.003919,
     "end_time": "2025-08-10T21:21:27.599925",
     "exception": false,
     "start_time": "2025-08-10T21:21:27.596006",
     "status": "completed"
    },
    "tags": []
   },
   "source": [
    "---\n",
    "\n",
    "\n",
    "\n",
    "\n",
    "*Have questions or comments? Visit the [course discussion forum](https://www.kaggle.com/learn/intro-to-machine-learning/discussion) to chat with other learners.*"
   ]
  }
 ],
 "metadata": {
  "kaggle": {
   "accelerator": "none",
   "dataSources": [
    {
     "databundleVersionId": 111096,
     "sourceId": 10211,
     "sourceType": "competition"
    },
    {
     "datasetId": 11167,
     "sourceId": 15520,
     "sourceType": "datasetVersion"
    },
    {
     "datasetId": 2709,
     "sourceId": 38454,
     "sourceType": "datasetVersion"
    }
   ],
   "isGpuEnabled": false,
   "isInternetEnabled": false,
   "language": "python",
   "sourceType": "notebook"
  },
  "kernelspec": {
   "display_name": "Python 3",
   "language": "python",
   "name": "python3"
  },
  "language_info": {
   "codemirror_mode": {
    "name": "ipython",
    "version": 3
   },
   "file_extension": ".py",
   "mimetype": "text/x-python",
   "name": "python",
   "nbconvert_exporter": "python",
   "pygments_lexer": "ipython3",
   "version": "3.11.13"
  },
  "papermill": {
   "default_parameters": {},
   "duration": 9.77726,
   "end_time": "2025-08-10T21:21:28.224664",
   "environment_variables": {},
   "exception": null,
   "input_path": "__notebook__.ipynb",
   "output_path": "__notebook__.ipynb",
   "parameters": {},
   "start_time": "2025-08-10T21:21:18.447404",
   "version": "2.6.0"
  }
 },
 "nbformat": 4,
 "nbformat_minor": 5
}
