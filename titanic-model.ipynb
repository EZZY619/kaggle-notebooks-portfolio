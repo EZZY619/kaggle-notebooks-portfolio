{
 "cells": [
  {
   "cell_type": "markdown",
   "id": "54adced6",
   "metadata": {
    "papermill": {
     "duration": 0.005561,
     "end_time": "2025-08-13T21:24:23.896787",
     "exception": false,
     "start_time": "2025-08-13T21:24:23.891226",
     "status": "completed"
    },
    "tags": []
   },
   "source": [
    "I’m building a Titanic survival prediction model using a stacked ensemble of CatBoost, XGBoost, and Logistic Regression to improve accuracy. I handle missing values smartly (like filling Age based on passenger class and gender, and extracting Deck from Cabin). I create new features like Title, FamilySize, and IsAlone to give the model more information. After training and validating the model, I predict on the test set and save the results for Kaggle submission. I also check feature importance and visualize some key data patterns."
   ]
  },
  {
   "cell_type": "code",
   "execution_count": 1,
   "id": "8a9f7ef8",
   "metadata": {
    "execution": {
     "iopub.execute_input": "2025-08-13T21:24:23.907472Z",
     "iopub.status.busy": "2025-08-13T21:24:23.907131Z",
     "iopub.status.idle": "2025-08-13T21:24:28.871503Z",
     "shell.execute_reply": "2025-08-13T21:24:28.870199Z"
    },
    "papermill": {
     "duration": 4.971782,
     "end_time": "2025-08-13T21:24:28.873376",
     "exception": false,
     "start_time": "2025-08-13T21:24:23.901594",
     "status": "completed"
    },
    "tags": []
   },
   "outputs": [],
   "source": [
    "# IMPORT LIBRARIES\n",
    "import pandas as pd\n",
    "import numpy as np\n",
    "import seaborn as sns\n",
    "import matplotlib.pyplot as plt\n",
    "import warnings\n",
    "\n",
    "warnings.filterwarnings('ignore')\n",
    "\n",
    "from sklearn.model_selection import train_test_split, StratifiedKFold\n",
    "from sklearn.preprocessing import LabelEncoder\n",
    "from sklearn.impute import SimpleImputer\n",
    "from sklearn.linear_model import LogisticRegression\n",
    "from sklearn.ensemble import StackingClassifier\n",
    "from xgboost import XGBClassifier\n",
    "from catboost import CatBoostClassifier\n",
    "from sklearn.metrics import accuracy_score"
   ]
  },
  {
   "cell_type": "code",
   "execution_count": 2,
   "id": "c5f431de",
   "metadata": {
    "execution": {
     "iopub.execute_input": "2025-08-13T21:24:28.884977Z",
     "iopub.status.busy": "2025-08-13T21:24:28.884002Z",
     "iopub.status.idle": "2025-08-13T21:24:28.915413Z",
     "shell.execute_reply": "2025-08-13T21:24:28.914579Z"
    },
    "papermill": {
     "duration": 0.038775,
     "end_time": "2025-08-13T21:24:28.917148",
     "exception": false,
     "start_time": "2025-08-13T21:24:28.878373",
     "status": "completed"
    },
    "tags": []
   },
   "outputs": [],
   "source": [
    "# LOAD DATA\n",
    "train = pd.read_csv('/kaggle/input/titanic/train.csv')\n",
    "test = pd.read_csv('/kaggle/input/titanic/test.csv')\n",
    "test_original = test.copy()  # Keep PassengerId for submission"
   ]
  },
  {
   "cell_type": "code",
   "execution_count": 3,
   "id": "ab9a37e4",
   "metadata": {
    "execution": {
     "iopub.execute_input": "2025-08-13T21:24:28.928169Z",
     "iopub.status.busy": "2025-08-13T21:24:28.927888Z",
     "iopub.status.idle": "2025-08-13T21:24:28.937189Z",
     "shell.execute_reply": "2025-08-13T21:24:28.936354Z"
    },
    "papermill": {
     "duration": 0.016571,
     "end_time": "2025-08-13T21:24:28.938621",
     "exception": false,
     "start_time": "2025-08-13T21:24:28.922050",
     "status": "completed"
    },
    "tags": []
   },
   "outputs": [
    {
     "data": {
      "text/plain": [
       "Index(['PassengerId', 'Survived', 'Pclass', 'Name', 'Sex', 'Age', 'SibSp',\n",
       "       'Parch', 'Ticket', 'Fare', 'Cabin', 'Embarked'],\n",
       "      dtype='object')"
      ]
     },
     "execution_count": 3,
     "metadata": {},
     "output_type": "execute_result"
    }
   ],
   "source": [
    "train.columns"
   ]
  },
  {
   "cell_type": "code",
   "execution_count": 4,
   "id": "01137c40",
   "metadata": {
    "execution": {
     "iopub.execute_input": "2025-08-13T21:24:28.949560Z",
     "iopub.status.busy": "2025-08-13T21:24:28.949234Z",
     "iopub.status.idle": "2025-08-13T21:24:28.960205Z",
     "shell.execute_reply": "2025-08-13T21:24:28.959371Z"
    },
    "papermill": {
     "duration": 0.018135,
     "end_time": "2025-08-13T21:24:28.961574",
     "exception": false,
     "start_time": "2025-08-13T21:24:28.943439",
     "status": "completed"
    },
    "tags": []
   },
   "outputs": [
    {
     "data": {
      "text/plain": [
       "PassengerId      0\n",
       "Survived         0\n",
       "Pclass           0\n",
       "Name             0\n",
       "Sex              0\n",
       "Age            177\n",
       "SibSp            0\n",
       "Parch            0\n",
       "Ticket           0\n",
       "Fare             0\n",
       "Cabin          687\n",
       "Embarked         2\n",
       "dtype: int64"
      ]
     },
     "execution_count": 4,
     "metadata": {},
     "output_type": "execute_result"
    }
   ],
   "source": [
    "train.isnull().sum()"
   ]
  },
  {
   "cell_type": "markdown",
   "id": "f8aa5c75",
   "metadata": {
    "papermill": {
     "duration": 0.004765,
     "end_time": "2025-08-13T21:24:28.971471",
     "exception": false,
     "start_time": "2025-08-13T21:24:28.966706",
     "status": "completed"
    },
    "tags": []
   },
   "source": [
    "HANDLING MISSING VALUES "
   ]
  },
  {
   "cell_type": "code",
   "execution_count": 5,
   "id": "1763b501",
   "metadata": {
    "execution": {
     "iopub.execute_input": "2025-08-13T21:24:28.983892Z",
     "iopub.status.busy": "2025-08-13T21:24:28.983052Z",
     "iopub.status.idle": "2025-08-13T21:24:29.005348Z",
     "shell.execute_reply": "2025-08-13T21:24:29.004513Z"
    },
    "papermill": {
     "duration": 0.030588,
     "end_time": "2025-08-13T21:24:29.007079",
     "exception": false,
     "start_time": "2025-08-13T21:24:28.976491",
     "status": "completed"
    },
    "tags": []
   },
   "outputs": [],
   "source": [
    "# Filling Age using median grouped by Pclass and Sex for better estimation\n",
    "train['Age'] = train.groupby(['Pclass', 'Sex'])['Age'].transform(lambda x: x.fillna(x.median()))\n",
    "test['Age'] = test.groupby(['Pclass', 'Sex'])['Age'].transform(lambda x: x.fillna(x.median()))"
   ]
  },
  {
   "cell_type": "code",
   "execution_count": 6,
   "id": "019af202",
   "metadata": {
    "execution": {
     "iopub.execute_input": "2025-08-13T21:24:29.018229Z",
     "iopub.status.busy": "2025-08-13T21:24:29.017944Z",
     "iopub.status.idle": "2025-08-13T21:24:29.023665Z",
     "shell.execute_reply": "2025-08-13T21:24:29.022856Z"
    },
    "papermill": {
     "duration": 0.013052,
     "end_time": "2025-08-13T21:24:29.025073",
     "exception": false,
     "start_time": "2025-08-13T21:24:29.012021",
     "status": "completed"
    },
    "tags": []
   },
   "outputs": [],
   "source": [
    "# Filling Embarked with mode\n",
    "train['Embarked'] = train['Embarked'].fillna(train['Embarked'].mode()[0])"
   ]
  },
  {
   "cell_type": "code",
   "execution_count": 7,
   "id": "fcbd102d",
   "metadata": {
    "execution": {
     "iopub.execute_input": "2025-08-13T21:24:29.036361Z",
     "iopub.status.busy": "2025-08-13T21:24:29.036024Z",
     "iopub.status.idle": "2025-08-13T21:24:29.040689Z",
     "shell.execute_reply": "2025-08-13T21:24:29.039981Z"
    },
    "papermill": {
     "duration": 0.011812,
     "end_time": "2025-08-13T21:24:29.041934",
     "exception": false,
     "start_time": "2025-08-13T21:24:29.030122",
     "status": "completed"
    },
    "tags": []
   },
   "outputs": [],
   "source": [
    "# Fill Fare with median in test set\n",
    "test['Fare'] = test['Fare'].fillna(test['Fare'].median())"
   ]
  },
  {
   "cell_type": "code",
   "execution_count": 8,
   "id": "dedd08c4",
   "metadata": {
    "execution": {
     "iopub.execute_input": "2025-08-13T21:24:29.053565Z",
     "iopub.status.busy": "2025-08-13T21:24:29.052783Z",
     "iopub.status.idle": "2025-08-13T21:24:29.060261Z",
     "shell.execute_reply": "2025-08-13T21:24:29.059451Z"
    },
    "papermill": {
     "duration": 0.014629,
     "end_time": "2025-08-13T21:24:29.061665",
     "exception": false,
     "start_time": "2025-08-13T21:24:29.047036",
     "status": "completed"
    },
    "tags": []
   },
   "outputs": [],
   "source": [
    "# Cabin: Extract first letter as Deck. Fill missing cabins with 'U' (Unknown)\n",
    "train['Deck'] = train['Cabin'].str[0].fillna('U')\n",
    "test['Deck'] = test['Cabin'].str[0].fillna('U')"
   ]
  },
  {
   "cell_type": "markdown",
   "id": "22c6f276",
   "metadata": {
    "papermill": {
     "duration": 0.004642,
     "end_time": "2025-08-13T21:24:29.071632",
     "exception": false,
     "start_time": "2025-08-13T21:24:29.066990",
     "status": "completed"
    },
    "tags": []
   },
   "source": [
    "**FEATURE ENGINEERING**"
   ]
  },
  {
   "cell_type": "code",
   "execution_count": 9,
   "id": "ab68412a",
   "metadata": {
    "execution": {
     "iopub.execute_input": "2025-08-13T21:24:29.083060Z",
     "iopub.status.busy": "2025-08-13T21:24:29.082189Z",
     "iopub.status.idle": "2025-08-13T21:24:29.089679Z",
     "shell.execute_reply": "2025-08-13T21:24:29.088884Z"
    },
    "papermill": {
     "duration": 0.014618,
     "end_time": "2025-08-13T21:24:29.091108",
     "exception": false,
     "start_time": "2025-08-13T21:24:29.076490",
     "status": "completed"
    },
    "tags": []
   },
   "outputs": [],
   "source": [
    "# Title Extraction from Name\n",
    "train['Title'] = train['Name'].str.extract(' ([A-Za-z]+)\\.', expand=False)\n",
    "test['Title'] = test['Name'].str.extract(' ([A-Za-z]+)\\.', expand=False)"
   ]
  },
  {
   "cell_type": "code",
   "execution_count": 10,
   "id": "b27a04e3",
   "metadata": {
    "execution": {
     "iopub.execute_input": "2025-08-13T21:24:29.102761Z",
     "iopub.status.busy": "2025-08-13T21:24:29.101960Z",
     "iopub.status.idle": "2025-08-13T21:24:29.112606Z",
     "shell.execute_reply": "2025-08-13T21:24:29.111772Z"
    },
    "papermill": {
     "duration": 0.017792,
     "end_time": "2025-08-13T21:24:29.114068",
     "exception": false,
     "start_time": "2025-08-13T21:24:29.096276",
     "status": "completed"
    },
    "tags": []
   },
   "outputs": [],
   "source": [
    "# Simplify Titles\n",
    "for dataset in [train, test]:\n",
    "    dataset['Title'] = dataset['Title'].replace(['Mlle', 'Ms'], 'Miss')\n",
    "    dataset['Title'] = dataset['Title'].replace(['Mme'], 'Mrs')\n",
    "    dataset['Title'] = dataset['Title'].replace(['Dr', 'Major', 'Col', 'Rev', 'Sir', 'Don', 'Capt', 'Jonkheer', 'Dona', 'Lady', 'Countess'], 'Rare')"
   ]
  },
  {
   "cell_type": "code",
   "execution_count": 11,
   "id": "e5e40c21",
   "metadata": {
    "execution": {
     "iopub.execute_input": "2025-08-13T21:24:29.125360Z",
     "iopub.status.busy": "2025-08-13T21:24:29.124773Z",
     "iopub.status.idle": "2025-08-13T21:24:29.130324Z",
     "shell.execute_reply": "2025-08-13T21:24:29.129645Z"
    },
    "papermill": {
     "duration": 0.012734,
     "end_time": "2025-08-13T21:24:29.131656",
     "exception": false,
     "start_time": "2025-08-13T21:24:29.118922",
     "status": "completed"
    },
    "tags": []
   },
   "outputs": [],
   "source": [
    "# Create Family Size\n",
    "for dataset in [train, test]:\n",
    "    dataset['FamilySize'] = dataset['SibSp'] + dataset['Parch'] + 1"
   ]
  },
  {
   "cell_type": "code",
   "execution_count": 12,
   "id": "5965e26e",
   "metadata": {
    "execution": {
     "iopub.execute_input": "2025-08-13T21:24:29.142889Z",
     "iopub.status.busy": "2025-08-13T21:24:29.142190Z",
     "iopub.status.idle": "2025-08-13T21:24:29.149083Z",
     "shell.execute_reply": "2025-08-13T21:24:29.148274Z"
    },
    "papermill": {
     "duration": 0.013945,
     "end_time": "2025-08-13T21:24:29.150486",
     "exception": false,
     "start_time": "2025-08-13T21:24:29.136541",
     "status": "completed"
    },
    "tags": []
   },
   "outputs": [],
   "source": [
    "# IsAlone Feature\n",
    "for dataset in [train, test]:\n",
    "    dataset['IsAlone'] = 1  # Default to alone\n",
    "    dataset['IsAlone'].loc[dataset['FamilySize'] > 1] = 0"
   ]
  },
  {
   "cell_type": "code",
   "execution_count": 13,
   "id": "60d23c68",
   "metadata": {
    "execution": {
     "iopub.execute_input": "2025-08-13T21:24:29.161720Z",
     "iopub.status.busy": "2025-08-13T21:24:29.161058Z",
     "iopub.status.idle": "2025-08-13T21:24:29.168565Z",
     "shell.execute_reply": "2025-08-13T21:24:29.167860Z"
    },
    "papermill": {
     "duration": 0.014421,
     "end_time": "2025-08-13T21:24:29.169814",
     "exception": false,
     "start_time": "2025-08-13T21:24:29.155393",
     "status": "completed"
    },
    "tags": []
   },
   "outputs": [],
   "source": [
    "# Drop unnecessary columns\n",
    "drop_cols = ['Name', 'Ticket', 'Cabin']\n",
    "train.drop(drop_cols, axis=1, inplace=True)\n",
    "test.drop(drop_cols, axis=1, inplace=True)"
   ]
  },
  {
   "cell_type": "markdown",
   "id": "f9393bf8",
   "metadata": {
    "papermill": {
     "duration": 0.004837,
     "end_time": "2025-08-13T21:24:29.179558",
     "exception": false,
     "start_time": "2025-08-13T21:24:29.174721",
     "status": "completed"
    },
    "tags": []
   },
   "source": [
    "**ENCODING CATEGORICAL VARIABLES**"
   ]
  },
  {
   "cell_type": "code",
   "execution_count": 14,
   "id": "e18210a5",
   "metadata": {
    "execution": {
     "iopub.execute_input": "2025-08-13T21:24:29.190554Z",
     "iopub.status.busy": "2025-08-13T21:24:29.189989Z",
     "iopub.status.idle": "2025-08-13T21:24:29.197891Z",
     "shell.execute_reply": "2025-08-13T21:24:29.197191Z"
    },
    "papermill": {
     "duration": 0.01484,
     "end_time": "2025-08-13T21:24:29.199189",
     "exception": false,
     "start_time": "2025-08-13T21:24:29.184349",
     "status": "completed"
    },
    "tags": []
   },
   "outputs": [],
   "source": [
    "# Label Encoding for simplicity\n",
    "le = LabelEncoder()\n",
    "for col in ['Sex', 'Embarked', 'Deck', 'Title']:\n",
    "    train[col] = le.fit_transform(train[col])\n",
    "    test[col] = le.transform(test[col])"
   ]
  },
  {
   "cell_type": "markdown",
   "id": "a77130f6",
   "metadata": {
    "papermill": {
     "duration": 0.004581,
     "end_time": "2025-08-13T21:24:29.208760",
     "exception": false,
     "start_time": "2025-08-13T21:24:29.204179",
     "status": "completed"
    },
    "tags": []
   },
   "source": [
    "**DEFINING FEATURES AND TARGET**"
   ]
  },
  {
   "cell_type": "code",
   "execution_count": 15,
   "id": "e6578754",
   "metadata": {
    "execution": {
     "iopub.execute_input": "2025-08-13T21:24:29.219824Z",
     "iopub.status.busy": "2025-08-13T21:24:29.219168Z",
     "iopub.status.idle": "2025-08-13T21:24:29.225349Z",
     "shell.execute_reply": "2025-08-13T21:24:29.224675Z"
    },
    "papermill": {
     "duration": 0.01306,
     "end_time": "2025-08-13T21:24:29.226577",
     "exception": false,
     "start_time": "2025-08-13T21:24:29.213517",
     "status": "completed"
    },
    "tags": []
   },
   "outputs": [],
   "source": [
    "features = ['Pclass', 'Sex', 'Age', 'Fare', 'Embarked', 'Deck', 'Title', 'FamilySize', 'IsAlone']\n",
    "X = train[features]\n",
    "y = train['Survived']\n",
    "test_X = test[features]"
   ]
  },
  {
   "cell_type": "markdown",
   "id": "fb7714a4",
   "metadata": {
    "papermill": {
     "duration": 0.004505,
     "end_time": "2025-08-13T21:24:29.235834",
     "exception": false,
     "start_time": "2025-08-13T21:24:29.231329",
     "status": "completed"
    },
    "tags": []
   },
   "source": [
    "**TRAIN / VALIDATION SPLIT (STRATIFIED FOR BALANCE)**"
   ]
  },
  {
   "cell_type": "code",
   "execution_count": 16,
   "id": "b671597a",
   "metadata": {
    "execution": {
     "iopub.execute_input": "2025-08-13T21:24:29.247037Z",
     "iopub.status.busy": "2025-08-13T21:24:29.246499Z",
     "iopub.status.idle": "2025-08-13T21:24:29.255382Z",
     "shell.execute_reply": "2025-08-13T21:24:29.254569Z"
    },
    "papermill": {
     "duration": 0.016415,
     "end_time": "2025-08-13T21:24:29.256977",
     "exception": false,
     "start_time": "2025-08-13T21:24:29.240562",
     "status": "completed"
    },
    "tags": []
   },
   "outputs": [],
   "source": [
    "X_train, X_valid, y_train, y_valid = train_test_split(\n",
    "    X, y, test_size=0.2, stratify=y, random_state=42\n",
    ")"
   ]
  },
  {
   "cell_type": "markdown",
   "id": "961e60ae",
   "metadata": {
    "papermill": {
     "duration": 0.004611,
     "end_time": "2025-08-13T21:24:29.266482",
     "exception": false,
     "start_time": "2025-08-13T21:24:29.261871",
     "status": "completed"
    },
    "tags": []
   },
   "source": [
    "**DEFINE BASE MODELS AND STACKING CLASSIFIER**"
   ]
  },
  {
   "cell_type": "code",
   "execution_count": 17,
   "id": "7932ab1b",
   "metadata": {
    "execution": {
     "iopub.execute_input": "2025-08-13T21:24:29.277157Z",
     "iopub.status.busy": "2025-08-13T21:24:29.276842Z",
     "iopub.status.idle": "2025-08-13T21:24:29.282695Z",
     "shell.execute_reply": "2025-08-13T21:24:29.281984Z"
    },
    "papermill": {
     "duration": 0.012736,
     "end_time": "2025-08-13T21:24:29.283957",
     "exception": false,
     "start_time": "2025-08-13T21:24:29.271221",
     "status": "completed"
    },
    "tags": []
   },
   "outputs": [],
   "source": [
    "xgb = XGBClassifier(use_label_encoder=False, eval_metric='logloss', random_state=42)\n",
    "cat = CatBoostClassifier(verbose=0, random_state=42)\n",
    "lr = LogisticRegression(max_iter=1000, random_state=42)"
   ]
  },
  {
   "cell_type": "code",
   "execution_count": 18,
   "id": "c471f846",
   "metadata": {
    "execution": {
     "iopub.execute_input": "2025-08-13T21:24:29.295231Z",
     "iopub.status.busy": "2025-08-13T21:24:29.294630Z",
     "iopub.status.idle": "2025-08-13T21:24:29.298785Z",
     "shell.execute_reply": "2025-08-13T21:24:29.298116Z"
    },
    "papermill": {
     "duration": 0.011018,
     "end_time": "2025-08-13T21:24:29.300069",
     "exception": false,
     "start_time": "2025-08-13T21:24:29.289051",
     "status": "completed"
    },
    "tags": []
   },
   "outputs": [],
   "source": [
    "# Stacking: Use Logistic Regression as meta-learner\n",
    "estimators = [\n",
    "    ('xgb', xgb),\n",
    "    ('cat', cat),\n",
    "]\n",
    "\n",
    "stack_model = StackingClassifier(\n",
    "    estimators=estimators,\n",
    "    final_estimator=lr,\n",
    "    cv=5,\n",
    "    n_jobs=-1\n",
    ")"
   ]
  },
  {
   "cell_type": "markdown",
   "id": "f2ea745c",
   "metadata": {
    "papermill": {
     "duration": 0.00458,
     "end_time": "2025-08-13T21:24:29.309939",
     "exception": false,
     "start_time": "2025-08-13T21:24:29.305359",
     "status": "completed"
    },
    "tags": []
   },
   "source": [
    "**TRAIN THE STACKED MODEL**"
   ]
  },
  {
   "cell_type": "code",
   "execution_count": 19,
   "id": "33d5e29d",
   "metadata": {
    "execution": {
     "iopub.execute_input": "2025-08-13T21:24:29.320716Z",
     "iopub.status.busy": "2025-08-13T21:24:29.320250Z",
     "iopub.status.idle": "2025-08-13T21:24:37.794413Z",
     "shell.execute_reply": "2025-08-13T21:24:37.793406Z"
    },
    "papermill": {
     "duration": 8.481642,
     "end_time": "2025-08-13T21:24:37.796314",
     "exception": false,
     "start_time": "2025-08-13T21:24:29.314672",
     "status": "completed"
    },
    "tags": []
   },
   "outputs": [
    {
     "name": "stdout",
     "output_type": "stream",
     "text": [
      "Validation Accuracy: 0.8100558659217877\n"
     ]
    }
   ],
   "source": [
    "stack_model.fit(X_train, y_train)\n",
    "\n",
    "# Validation Accuracy\n",
    "y_pred = stack_model.predict(X_valid)\n",
    "print(\"Validation Accuracy:\", accuracy_score(y_valid, y_pred))"
   ]
  },
  {
   "cell_type": "code",
   "execution_count": 20,
   "id": "e5a6241d",
   "metadata": {
    "execution": {
     "iopub.execute_input": "2025-08-13T21:24:37.813887Z",
     "iopub.status.busy": "2025-08-13T21:24:37.813560Z",
     "iopub.status.idle": "2025-08-13T21:24:38.093739Z",
     "shell.execute_reply": "2025-08-13T21:24:38.092709Z"
    },
    "papermill": {
     "duration": 0.290927,
     "end_time": "2025-08-13T21:24:38.095383",
     "exception": false,
     "start_time": "2025-08-13T21:24:37.804456",
     "status": "completed"
    },
    "tags": []
   },
   "outputs": [
    {
     "data": {
      "image/png": "[encoded data removed]",
      "text/plain": [
       "<Figure size 640x480 with 2 Axes>"
      ]
     },
     "metadata": {},
     "output_type": "display_data"
    }
   ],
   "source": [
    "from sklearn.metrics import confusion_matrix, ConfusionMatrixDisplay\n",
    "\n",
    "# Generate confusion matrix\n",
    "cm = confusion_matrix(y_valid, y_pred)\n",
    "\n",
    "# Plot the confusion matrix\n",
    "disp = ConfusionMatrixDisplay(confusion_matrix=cm, display_labels=[0,1])\n",
    "disp.plot(cmap='Blues')\n",
    "plt.title(\"Confusion Matrix on Validation Set\")\n",
    "plt.show()"
   ]
  },
  {
   "cell_type": "markdown",
   "id": "e577ef03",
   "metadata": {
    "papermill": {
     "duration": 0.005076,
     "end_time": "2025-08-13T21:24:38.105897",
     "exception": false,
     "start_time": "2025-08-13T21:24:38.100821",
     "status": "completed"
    },
    "tags": []
   },
   "source": [
    "**FINAL PREDICTION AND SUBMISSION**"
   ]
  },
  {
   "cell_type": "code",
   "execution_count": 21,
   "id": "469e404b",
   "metadata": {
    "execution": {
     "iopub.execute_input": "2025-08-13T21:24:38.118014Z",
     "iopub.status.busy": "2025-08-13T21:24:38.117245Z",
     "iopub.status.idle": "2025-08-13T21:24:38.134367Z",
     "shell.execute_reply": "2025-08-13T21:24:38.133558Z"
    },
    "papermill": {
     "duration": 0.024715,
     "end_time": "2025-08-13T21:24:38.135761",
     "exception": false,
     "start_time": "2025-08-13T21:24:38.111046",
     "status": "completed"
    },
    "tags": []
   },
   "outputs": [
    {
     "name": "stdout",
     "output_type": "stream",
     "text": [
      "Submission file saved as: submission.csv\n"
     ]
    }
   ],
   "source": [
    "test_pred = stack_model.predict(test_X)\n",
    "\n",
    "submission = pd.DataFrame({\n",
    "    'PassengerId': test_original['PassengerId'],\n",
    "    'Survived': test_pred\n",
    "})\n",
    "\n",
    "submission.to_csv('submission.csv', index=False)\n",
    "print(\"Submission file saved as: submission.csv\")\n"
   ]
  },
  {
   "cell_type": "code",
   "execution_count": 22,
   "id": "3fe8a5f9",
   "metadata": {
    "execution": {
     "iopub.execute_input": "2025-08-13T21:24:38.148095Z",
     "iopub.status.busy": "2025-08-13T21:24:38.147548Z",
     "iopub.status.idle": "2025-08-13T21:24:38.525233Z",
     "shell.execute_reply": "2025-08-13T21:24:38.524350Z"
    },
    "papermill": {
     "duration": 0.385318,
     "end_time": "2025-08-13T21:24:38.526603",
     "exception": false,
     "start_time": "2025-08-13T21:24:38.141285",
     "status": "completed"
    },
    "tags": []
   },
   "outputs": [
    {
     "data": {
      "image/png": "[encoded data removed]",
      "text/plain": [
       "<Figure size 800x500 with 1 Axes>"
      ]
     },
     "metadata": {},
     "output_type": "display_data"
    }
   ],
   "source": [
    "# Plot feature importance from XGBoost\n",
    "xgb.fit(X_train, y_train)\n",
    "importances = xgb.feature_importances_\n",
    "\n",
    "feat_importances = pd.Series(importances, index=features)\n",
    "feat_importances.sort_values().plot(kind='barh', figsize=(8,5))\n",
    "plt.title('XGBoost Feature Importance (Base Model)')\n",
    "plt.show()"
   ]
  }
 ],
 "metadata": {
  "kaggle": {
   "accelerator": "none",
   "dataSources": [
    {
     "databundleVersionId": 26502,
     "sourceId": 3136,
     "sourceType": "competition"
    }
   ],
   "dockerImageVersionId": 31089,
   "isGpuEnabled": false,
   "isInternetEnabled": false,
   "language": "python",
   "sourceType": "notebook"
  },
  "kernelspec": {
   "display_name": "Python 3",
   "language": "python",
   "name": "python3"
  },
  "language_info": {
   "codemirror_mode": {
    "name": "ipython",
    "version": 3
   },
   "file_extension": ".py",
   "mimetype": "text/x-python",
   "name": "python",
   "nbconvert_exporter": "python",
   "pygments_lexer": "ipython3",
   "version": "3.11.13"
  },
  "papermill": {
   "default_parameters": {},
   "duration": 21.807096,
   "end_time": "2025-08-13T21:24:41.151326",
   "environment_variables": {},
   "exception": null,
   "input_path": "__notebook__.ipynb",
   "output_path": "__notebook__.ipynb",
   "parameters": {},
   "start_time": "2025-08-13T21:24:19.344230",
   "version": "2.6.0"
  }
 },
 "nbformat": 4,
 "nbformat_minor": 5
}
