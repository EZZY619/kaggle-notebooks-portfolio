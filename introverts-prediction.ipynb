{
 "cells": [
  {
   "cell_type": "code",
   "execution_count": 1,
   "id": "eadf1c48",
   "metadata": {
    "_cell_guid": "b1076dfc-b9ad-4769-8c92-a6c4dae69d19",
    "_uuid": "8f2839f25d086af736a60e9eeb907d3b93b6e0e5",
    "execution": {
     "iopub.execute_input": "2025-07-30T11:27:38.063743Z",
     "iopub.status.busy": "2025-07-30T11:27:38.063420Z",
     "iopub.status.idle": "2025-07-30T11:27:40.162271Z",
     "shell.execute_reply": "2025-07-30T11:27:40.160841Z"
    },
    "papermill": {
     "duration": 2.107508,
     "end_time": "2025-07-30T11:27:40.163969",
     "exception": false,
     "start_time": "2025-07-30T11:27:38.056461",
     "status": "completed"
    },
    "tags": []
   },
   "outputs": [
    {
     "name": "stdout",
     "output_type": "stream",
     "text": [
      "/kaggle/input/playground-series-s5e7/sample_submission.csv\n",
      "/kaggle/input/playground-series-s5e7/train.csv\n",
      "/kaggle/input/playground-series-s5e7/test.csv\n"
     ]
    }
   ],
   "source": [
    "# This Python 3 environment comes with many helpful analytics libraries installed\n",
    "# It is defined by the kaggle/python Docker image: https://github.com/kaggle/docker-python\n",
    "# For example, here's several helpful packages to load\n",
    "\n",
    "import numpy as np # linear algebra\n",
    "import pandas as pd # data processing, CSV file I/O (e.g. pd.read_csv)\n",
    "\n",
    "# Input data files are available in the read-only \"../input/\" directory\n",
    "# For example, running this (by clicking run or pressing Shift+Enter) will list all files under the input directory\n",
    "\n",
    "import os\n",
    "for dirname, _, filenames in os.walk('/kaggle/input'):\n",
    "    for filename in filenames:\n",
    "        print(os.path.join(dirname, filename))\n",
    "\n",
    "# You can write up to 20GB to the current directory (/kaggle/working/) that gets preserved as output when you create a version using \"Save & Run All\" \n",
    "# You can also write temporary files to /kaggle/temp/, but they won't be saved outside of the current session"
   ]
  },
  {
   "cell_type": "code",
   "execution_count": 2,
   "id": "0e0a916a",
   "metadata": {
    "execution": {
     "iopub.execute_input": "2025-07-30T11:27:40.176487Z",
     "iopub.status.busy": "2025-07-30T11:27:40.176034Z",
     "iopub.status.idle": "2025-07-30T11:27:43.343553Z",
     "shell.execute_reply": "2025-07-30T11:27:43.342491Z"
    },
    "papermill": {
     "duration": 3.176013,
     "end_time": "2025-07-30T11:27:43.345441",
     "exception": false,
     "start_time": "2025-07-30T11:27:40.169428",
     "status": "completed"
    },
    "tags": []
   },
   "outputs": [],
   "source": [
    "# Visualization\n",
    "import matplotlib.pyplot as plt\n",
    "import seaborn as sns\n",
    "\n",
    "# Preprocessing\n",
    "from sklearn.model_selection import train_test_split\n",
    "from sklearn.metrics import accuracy_score, confusion_matrix, classification_report, ConfusionMatrixDisplay\n",
    "\n",
    "# CatBoost \n",
    "from catboost import CatBoostClassifier, Pool\n",
    "\n",
    "# Ignore warnings\n",
    "import warnings\n",
    "warnings.filterwarnings('ignore')"
   ]
  },
  {
   "cell_type": "code",
   "execution_count": 3,
   "id": "e283ec23",
   "metadata": {
    "execution": {
     "iopub.execute_input": "2025-07-30T11:27:43.357556Z",
     "iopub.status.busy": "2025-07-30T11:27:43.356998Z",
     "iopub.status.idle": "2025-07-30T11:27:43.439892Z",
     "shell.execute_reply": "2025-07-30T11:27:43.438863Z"
    },
    "papermill": {
     "duration": 0.09091,
     "end_time": "2025-07-30T11:27:43.441663",
     "exception": false,
     "start_time": "2025-07-30T11:27:43.350753",
     "status": "completed"
    },
    "tags": []
   },
   "outputs": [
    {
     "data": {
      "text/html": [
       "<div>\n",
       "<style scoped>\n",
       "    .dataframe tbody tr th:only-of-type {\n",
       "        vertical-align: middle;\n",
       "    }\n",
       "\n",
       "    .dataframe tbody tr th {\n",
       "        vertical-align: top;\n",
       "    }\n",
       "\n",
       "    .dataframe thead th {\n",
       "        text-align: right;\n",
       "    }\n",
       "</style>\n",
       "<table border=\"1\" class=\"dataframe\">\n",
       "  <thead>\n",
       "    <tr style=\"text-align: right;\">\n",
       "      <th></th>\n",
       "      <th>id</th>\n",
       "      <th>Time_spent_Alone</th>\n",
       "      <th>Stage_fear</th>\n",
       "      <th>Social_event_attendance</th>\n",
       "      <th>Going_outside</th>\n",
       "      <th>Drained_after_socializing</th>\n",
       "      <th>Friends_circle_size</th>\n",
       "      <th>Post_frequency</th>\n",
       "      <th>Personality</th>\n",
       "    </tr>\n",
       "  </thead>\n",
       "  <tbody>\n",
       "    <tr>\n",
       "      <th>0</th>\n",
       "      <td>0</td>\n",
       "      <td>0.0</td>\n",
       "      <td>No</td>\n",
       "      <td>6.0</td>\n",
       "      <td>4.0</td>\n",
       "      <td>No</td>\n",
       "      <td>15.0</td>\n",
       "      <td>5.0</td>\n",
       "      <td>Extrovert</td>\n",
       "    </tr>\n",
       "    <tr>\n",
       "      <th>1</th>\n",
       "      <td>1</td>\n",
       "      <td>1.0</td>\n",
       "      <td>No</td>\n",
       "      <td>7.0</td>\n",
       "      <td>3.0</td>\n",
       "      <td>No</td>\n",
       "      <td>10.0</td>\n",
       "      <td>8.0</td>\n",
       "      <td>Extrovert</td>\n",
       "    </tr>\n",
       "    <tr>\n",
       "      <th>2</th>\n",
       "      <td>2</td>\n",
       "      <td>6.0</td>\n",
       "      <td>Yes</td>\n",
       "      <td>1.0</td>\n",
       "      <td>0.0</td>\n",
       "      <td>NaN</td>\n",
       "      <td>3.0</td>\n",
       "      <td>0.0</td>\n",
       "      <td>Introvert</td>\n",
       "    </tr>\n",
       "    <tr>\n",
       "      <th>3</th>\n",
       "      <td>3</td>\n",
       "      <td>3.0</td>\n",
       "      <td>No</td>\n",
       "      <td>7.0</td>\n",
       "      <td>3.0</td>\n",
       "      <td>No</td>\n",
       "      <td>11.0</td>\n",
       "      <td>5.0</td>\n",
       "      <td>Extrovert</td>\n",
       "    </tr>\n",
       "    <tr>\n",
       "      <th>4</th>\n",
       "      <td>4</td>\n",
       "      <td>1.0</td>\n",
       "      <td>No</td>\n",
       "      <td>4.0</td>\n",
       "      <td>4.0</td>\n",
       "      <td>No</td>\n",
       "      <td>13.0</td>\n",
       "      <td>NaN</td>\n",
       "      <td>Extrovert</td>\n",
       "    </tr>\n",
       "  </tbody>\n",
       "</table>\n",
       "</div>"
      ],
      "text/plain": [
       "   id  Time_spent_Alone Stage_fear  Social_event_attendance  Going_outside  \\\n",
       "0   0               0.0         No                      6.0            4.0   \n",
       "1   1               1.0         No                      7.0            3.0   \n",
       "2   2               6.0        Yes                      1.0            0.0   \n",
       "3   3               3.0         No                      7.0            3.0   \n",
       "4   4               1.0         No                      4.0            4.0   \n",
       "\n",
       "  Drained_after_socializing  Friends_circle_size  Post_frequency Personality  \n",
       "0                        No                 15.0             5.0   Extrovert  \n",
       "1                        No                 10.0             8.0   Extrovert  \n",
       "2                       NaN                  3.0             0.0   Introvert  \n",
       "3                        No                 11.0             5.0   Extrovert  \n",
       "4                        No                 13.0             NaN   Extrovert  "
      ]
     },
     "execution_count": 3,
     "metadata": {},
     "output_type": "execute_result"
    }
   ],
   "source": [
    "# Example: Adjust file paths to your dataset\n",
    "train = pd.read_csv('/kaggle/input/playground-series-s5e7/train.csv')\n",
    "test = pd.read_csv('/kaggle/input/playground-series-s5e7/test.csv')\n",
    "\n",
    "# Preview\n",
    "train.head()"
   ]
  },
  {
   "cell_type": "code",
   "execution_count": 4,
   "id": "1c3f9100",
   "metadata": {
    "execution": {
     "iopub.execute_input": "2025-07-30T11:27:43.453638Z",
     "iopub.status.busy": "2025-07-30T11:27:43.453297Z",
     "iopub.status.idle": "2025-07-30T11:27:43.461035Z",
     "shell.execute_reply": "2025-07-30T11:27:43.459962Z"
    },
    "papermill": {
     "duration": 0.015533,
     "end_time": "2025-07-30T11:27:43.462622",
     "exception": false,
     "start_time": "2025-07-30T11:27:43.447089",
     "status": "completed"
    },
    "tags": []
   },
   "outputs": [
    {
     "data": {
      "text/plain": [
       "Index(['id', 'Time_spent_Alone', 'Stage_fear', 'Social_event_attendance',\n",
       "       'Going_outside', 'Drained_after_socializing', 'Friends_circle_size',\n",
       "       'Post_frequency', 'Personality'],\n",
       "      dtype='object')"
      ]
     },
     "execution_count": 4,
     "metadata": {},
     "output_type": "execute_result"
    }
   ],
   "source": [
    "train.columns"
   ]
  },
  {
   "cell_type": "code",
   "execution_count": 5,
   "id": "49ad6dab",
   "metadata": {
    "execution": {
     "iopub.execute_input": "2025-07-30T11:27:43.474429Z",
     "iopub.status.busy": "2025-07-30T11:27:43.474049Z",
     "iopub.status.idle": "2025-07-30T11:27:43.486408Z",
     "shell.execute_reply": "2025-07-30T11:27:43.485432Z"
    },
    "papermill": {
     "duration": 0.020229,
     "end_time": "2025-07-30T11:27:43.488118",
     "exception": false,
     "start_time": "2025-07-30T11:27:43.467889",
     "status": "completed"
    },
    "tags": []
   },
   "outputs": [
    {
     "data": {
      "text/plain": [
       "id                              0\n",
       "Time_spent_Alone             1190\n",
       "Stage_fear                   1893\n",
       "Social_event_attendance      1180\n",
       "Going_outside                1466\n",
       "Drained_after_socializing    1149\n",
       "Friends_circle_size          1054\n",
       "Post_frequency               1264\n",
       "Personality                     0\n",
       "dtype: int64"
      ]
     },
     "execution_count": 5,
     "metadata": {},
     "output_type": "execute_result"
    }
   ],
   "source": [
    "train.isnull().sum()"
   ]
  },
  {
   "cell_type": "code",
   "execution_count": 6,
   "id": "74a0d1ff",
   "metadata": {
    "execution": {
     "iopub.execute_input": "2025-07-30T11:27:43.501912Z",
     "iopub.status.busy": "2025-07-30T11:27:43.501568Z",
     "iopub.status.idle": "2025-07-30T11:27:43.511435Z",
     "shell.execute_reply": "2025-07-30T11:27:43.510467Z"
    },
    "papermill": {
     "duration": 0.018573,
     "end_time": "2025-07-30T11:27:43.513040",
     "exception": false,
     "start_time": "2025-07-30T11:27:43.494467",
     "status": "completed"
    },
    "tags": []
   },
   "outputs": [
    {
     "data": {
      "text/plain": [
       "id                             0\n",
       "Time_spent_Alone             425\n",
       "Stage_fear                   598\n",
       "Social_event_attendance      397\n",
       "Going_outside                466\n",
       "Drained_after_socializing    432\n",
       "Friends_circle_size          350\n",
       "Post_frequency               408\n",
       "dtype: int64"
      ]
     },
     "execution_count": 6,
     "metadata": {},
     "output_type": "execute_result"
    }
   ],
   "source": [
    "test.isnull().sum()"
   ]
  },
  {
   "cell_type": "code",
   "execution_count": 7,
   "id": "12443452",
   "metadata": {
    "execution": {
     "iopub.execute_input": "2025-07-30T11:27:43.526263Z",
     "iopub.status.busy": "2025-07-30T11:27:43.525738Z",
     "iopub.status.idle": "2025-07-30T11:27:43.530688Z",
     "shell.execute_reply": "2025-07-30T11:27:43.529884Z"
    },
    "papermill": {
     "duration": 0.013844,
     "end_time": "2025-07-30T11:27:43.532332",
     "exception": false,
     "start_time": "2025-07-30T11:27:43.518488",
     "status": "completed"
    },
    "tags": []
   },
   "outputs": [],
   "source": [
    "# Numerical columns to impute with MEDIAN\n",
    "numerical_cols_to_impute = [\n",
    "    'Time_spent_Alone', \n",
    "    'Social_event_attendance',\n",
    "    'Going_outside',\n",
    "    'Friends_circle_size',\n",
    "    'Post_frequency'\n",
    "]\n",
    "\n",
    "# Categorical columns to impute with MODE (Yes/No type)\n",
    "categorical_cols_to_impute = [\n",
    "    'Stage_fear', \n",
    "    'Drained_after_socializing'\n",
    "]\n"
   ]
  },
  {
   "cell_type": "code",
   "execution_count": 8,
   "id": "61201623",
   "metadata": {
    "execution": {
     "iopub.execute_input": "2025-07-30T11:27:43.544729Z",
     "iopub.status.busy": "2025-07-30T11:27:43.544347Z",
     "iopub.status.idle": "2025-07-30T11:27:43.557845Z",
     "shell.execute_reply": "2025-07-30T11:27:43.557008Z"
    },
    "papermill": {
     "duration": 0.021778,
     "end_time": "2025-07-30T11:27:43.559572",
     "exception": false,
     "start_time": "2025-07-30T11:27:43.537794",
     "status": "completed"
    },
    "tags": []
   },
   "outputs": [],
   "source": [
    "# Impute numerical features with median (robust to outliers)\n",
    "for col in numerical_cols_to_impute:\n",
    "    median_value = train[col].median()\n",
    "    train[col].fillna(median_value, inplace=True)\n",
    "    test[col].fillna(median_value, inplace=True)\n"
   ]
  },
  {
   "cell_type": "code",
   "execution_count": 9,
   "id": "0ae43c4f",
   "metadata": {
    "execution": {
     "iopub.execute_input": "2025-07-30T11:27:43.571799Z",
     "iopub.status.busy": "2025-07-30T11:27:43.571519Z",
     "iopub.status.idle": "2025-07-30T11:27:43.585624Z",
     "shell.execute_reply": "2025-07-30T11:27:43.584824Z"
    },
    "papermill": {
     "duration": 0.02203,
     "end_time": "2025-07-30T11:27:43.587304",
     "exception": false,
     "start_time": "2025-07-30T11:27:43.565274",
     "status": "completed"
    },
    "tags": []
   },
   "outputs": [],
   "source": [
    "# Impute categorical features with mode (most frequent value)\n",
    "for col in categorical_cols_to_impute:\n",
    "    mode_value = train[col].mode()[0]\n",
    "    train[col].fillna(mode_value, inplace=True)\n",
    "    test[col].fillna(mode_value, inplace=True)"
   ]
  },
  {
   "cell_type": "code",
   "execution_count": 10,
   "id": "4cac9dbb",
   "metadata": {
    "execution": {
     "iopub.execute_input": "2025-07-30T11:27:43.599536Z",
     "iopub.status.busy": "2025-07-30T11:27:43.599212Z",
     "iopub.status.idle": "2025-07-30T11:27:43.612923Z",
     "shell.execute_reply": "2025-07-30T11:27:43.611909Z"
    },
    "papermill": {
     "duration": 0.021913,
     "end_time": "2025-07-30T11:27:43.614712",
     "exception": false,
     "start_time": "2025-07-30T11:27:43.592799",
     "status": "completed"
    },
    "tags": []
   },
   "outputs": [],
   "source": [
    "# Define target variable\n",
    "target = 'Personality'\n",
    "\n",
    "# Features (drop target and id)\n",
    "X = train.drop(columns=[target, 'id'])\n",
    "y = train[target]\n",
    "\n",
    "# Test features (drop id)\n",
    "X_test = test.drop(columns=['id'])"
   ]
  },
  {
   "cell_type": "code",
   "execution_count": 11,
   "id": "02237687",
   "metadata": {
    "execution": {
     "iopub.execute_input": "2025-07-30T11:27:43.627438Z",
     "iopub.status.busy": "2025-07-30T11:27:43.627117Z",
     "iopub.status.idle": "2025-07-30T11:27:43.657902Z",
     "shell.execute_reply": "2025-07-30T11:27:43.656887Z"
    },
    "papermill": {
     "duration": 0.039196,
     "end_time": "2025-07-30T11:27:43.659721",
     "exception": false,
     "start_time": "2025-07-30T11:27:43.620525",
     "status": "completed"
    },
    "tags": []
   },
   "outputs": [],
   "source": [
    "# Split train data into training and validation sets (80% train, 20% validation)\n",
    "X_train, X_valid, y_train, y_valid = train_test_split(\n",
    "    X, y, test_size=0.2, random_state=42, stratify=y\n",
    ")"
   ]
  },
  {
   "cell_type": "code",
   "execution_count": 12,
   "id": "18e3c34a",
   "metadata": {
    "execution": {
     "iopub.execute_input": "2025-07-30T11:27:43.671940Z",
     "iopub.status.busy": "2025-07-30T11:27:43.671648Z",
     "iopub.status.idle": "2025-07-30T11:27:43.678805Z",
     "shell.execute_reply": "2025-07-30T11:27:43.677696Z"
    },
    "papermill": {
     "duration": 0.015232,
     "end_time": "2025-07-30T11:27:43.680520",
     "exception": false,
     "start_time": "2025-07-30T11:27:43.665288",
     "status": "completed"
    },
    "tags": []
   },
   "outputs": [
    {
     "name": "stdout",
     "output_type": "stream",
     "text": [
      "Categorical features: ['Stage_fear', 'Drained_after_socializing']\n"
     ]
    }
   ],
   "source": [
    "# Identify columns with object (string) data type as categorical features\n",
    "categorical_features = X.select_dtypes(include=['object']).columns.tolist()\n",
    "print(\"Categorical features:\", categorical_features)"
   ]
  },
  {
   "cell_type": "code",
   "execution_count": 13,
   "id": "722ebcaa",
   "metadata": {
    "execution": {
     "iopub.execute_input": "2025-07-30T11:27:43.692461Z",
     "iopub.status.busy": "2025-07-30T11:27:43.692176Z",
     "iopub.status.idle": "2025-07-30T11:27:44.203007Z",
     "shell.execute_reply": "2025-07-30T11:27:44.201643Z"
    },
    "papermill": {
     "duration": 0.519023,
     "end_time": "2025-07-30T11:27:44.204814",
     "exception": false,
     "start_time": "2025-07-30T11:27:43.685791",
     "status": "completed"
    },
    "tags": []
   },
   "outputs": [
    {
     "name": "stdout",
     "output_type": "stream",
     "text": [
      "0:\tlearn: 0.9667994\ttest: 0.9700405\tbest: 0.9700405 (0)\ttotal: 59.9ms\tremaining: 59.8s\n",
      "Stopped by overfitting detector  (50 iterations wait)\n",
      "\n",
      "bestTest = 0.971120108\n",
      "bestIteration = 8\n",
      "\n",
      "Shrink model to first 9 iterations.\n"
     ]
    },
    {
     "data": {
      "text/plain": [
       "<catboost.core.CatBoostClassifier at 0x7cc6f9e8f750>"
      ]
     },
     "execution_count": 13,
     "metadata": {},
     "output_type": "execute_result"
    }
   ],
   "source": [
    "# Initialize CatBoost Classifier\n",
    "model = CatBoostClassifier(\n",
    "    iterations=1000,           # Number of trees\n",
    "    learning_rate=0.05,        # Step size shrinkage\n",
    "    depth=6,                    # Tree depth\n",
    "    eval_metric='Accuracy',     # Use accuracy for evaluation\n",
    "    cat_features=categorical_features, # Specify categorical columns\n",
    "    verbose=100,                # Print progress every 100 iterations\n",
    "    random_seed=42,             # For reproducibility\n",
    "    early_stopping_rounds=50    # Stop if no improvement after 50 rounds\n",
    ")\n",
    "\n",
    "# Train the model\n",
    "model.fit(X_train, y_train, eval_set=(X_valid, y_valid))\n"
   ]
  },
  {
   "cell_type": "code",
   "execution_count": 14,
   "id": "44055859",
   "metadata": {
    "execution": {
     "iopub.execute_input": "2025-07-30T11:27:44.218444Z",
     "iopub.status.busy": "2025-07-30T11:27:44.218059Z",
     "iopub.status.idle": "2025-07-30T11:27:44.229174Z",
     "shell.execute_reply": "2025-07-30T11:27:44.228323Z"
    },
    "papermill": {
     "duration": 0.019567,
     "end_time": "2025-07-30T11:27:44.230794",
     "exception": false,
     "start_time": "2025-07-30T11:27:44.211227",
     "status": "completed"
    },
    "tags": []
   },
   "outputs": [],
   "source": [
    "# Predict on validation data\n",
    "y_pred = model.predict(X_valid)"
   ]
  },
  {
   "cell_type": "code",
   "execution_count": 15,
   "id": "f54d4e51",
   "metadata": {
    "execution": {
     "iopub.execute_input": "2025-07-30T11:27:44.243173Z",
     "iopub.status.busy": "2025-07-30T11:27:44.242835Z",
     "iopub.status.idle": "2025-07-30T11:27:44.256371Z",
     "shell.execute_reply": "2025-07-30T11:27:44.255237Z"
    },
    "papermill": {
     "duration": 0.021499,
     "end_time": "2025-07-30T11:27:44.257900",
     "exception": false,
     "start_time": "2025-07-30T11:27:44.236401",
     "status": "completed"
    },
    "tags": []
   },
   "outputs": [
    {
     "name": "stdout",
     "output_type": "stream",
     "text": [
      "Validation Accuracy: 0.9711\n"
     ]
    }
   ],
   "source": [
    "# Calculate accuracy\n",
    "acc = accuracy_score(y_valid, y_pred)\n",
    "print(\"Validation Accuracy:\", round(acc, 4))"
   ]
  },
  {
   "cell_type": "code",
   "execution_count": 16,
   "id": "80b195aa",
   "metadata": {
    "execution": {
     "iopub.execute_input": "2025-07-30T11:27:44.270945Z",
     "iopub.status.busy": "2025-07-30T11:27:44.270623Z",
     "iopub.status.idle": "2025-07-30T11:27:44.577210Z",
     "shell.execute_reply": "2025-07-30T11:27:44.576250Z"
    },
    "papermill": {
     "duration": 0.314953,
     "end_time": "2025-07-30T11:27:44.578724",
     "exception": false,
     "start_time": "2025-07-30T11:27:44.263771",
     "status": "completed"
    },
    "tags": []
   },
   "outputs": [
    {
     "data": {
      "image/png": "[encoded data removed]",
      "text/plain": [
       "<Figure size 640x480 with 2 Axes>"
      ]
     },
     "metadata": {},
     "output_type": "display_data"
    }
   ],
   "source": [
    "# Create confusion matrix\n",
    "cm = confusion_matrix(y_valid, y_pred, labels=['Introvert', 'Extrovert'])\n",
    "\n",
    "# Display confusion matrix\n",
    "disp = ConfusionMatrixDisplay(confusion_matrix=cm, display_labels=['Introvert', 'Extrovert'])\n",
    "disp.plot(cmap=plt.cm.Blues)\n",
    "plt.title(\"Confusion Matrix\")\n",
    "plt.show()"
   ]
  },
  {
   "cell_type": "code",
   "execution_count": 17,
   "id": "8a1aa666",
   "metadata": {
    "execution": {
     "iopub.execute_input": "2025-07-30T11:27:44.592775Z",
     "iopub.status.busy": "2025-07-30T11:27:44.592450Z",
     "iopub.status.idle": "2025-07-30T11:27:44.718504Z",
     "shell.execute_reply": "2025-07-30T11:27:44.717334Z"
    },
    "papermill": {
     "duration": 0.134927,
     "end_time": "2025-07-30T11:27:44.720370",
     "exception": false,
     "start_time": "2025-07-30T11:27:44.585443",
     "status": "completed"
    },
    "tags": []
   },
   "outputs": [
    {
     "name": "stdout",
     "output_type": "stream",
     "text": [
      "Classification Report:\n",
      "\n",
      "              precision    recall  f1-score   support\n",
      "\n",
      "   Extrovert       0.98      0.98      0.98      2740\n",
      "   Introvert       0.94      0.95      0.94       965\n",
      "\n",
      "    accuracy                           0.97      3705\n",
      "   macro avg       0.96      0.96      0.96      3705\n",
      "weighted avg       0.97      0.97      0.97      3705\n",
      "\n"
     ]
    }
   ],
   "source": [
    "# Print precision, recall, F1-score\n",
    "print(\"Classification Report:\\n\")\n",
    "print(classification_report(y_valid, y_pred))"
   ]
  },
  {
   "cell_type": "code",
   "execution_count": 18,
   "id": "eeb12d0b",
   "metadata": {
    "execution": {
     "iopub.execute_input": "2025-07-30T11:27:44.734221Z",
     "iopub.status.busy": "2025-07-30T11:27:44.733422Z",
     "iopub.status.idle": "2025-07-30T11:27:44.760915Z",
     "shell.execute_reply": "2025-07-30T11:27:44.759694Z"
    },
    "papermill": {
     "duration": 0.03604,
     "end_time": "2025-07-30T11:27:44.762538",
     "exception": false,
     "start_time": "2025-07-30T11:27:44.726498",
     "status": "completed"
    },
    "tags": []
   },
   "outputs": [
    {
     "name": "stdout",
     "output_type": "stream",
     "text": [
      "Submission file created successfully!\n"
     ]
    }
   ],
   "source": [
    "# Predict on test set\n",
    "test_pred = model.predict(X_test)\n",
    "\n",
    "# Create submission DataFrame\n",
    "submission = pd.DataFrame({\n",
    "    'id': test['id'],\n",
    "    'Personality': test_pred\n",
    "})\n",
    "\n",
    "# Save to CSV\n",
    "submission.to_csv('submission.csv', index=False)\n",
    "print(\"Submission file created successfully!\")"
   ]
  },
  {
   "cell_type": "code",
   "execution_count": 19,
   "id": "be5cc77a",
   "metadata": {
    "execution": {
     "iopub.execute_input": "2025-07-30T11:27:44.777489Z",
     "iopub.status.busy": "2025-07-30T11:27:44.777112Z",
     "iopub.status.idle": "2025-07-30T11:27:44.965906Z",
     "shell.execute_reply": "2025-07-30T11:27:44.964925Z"
    },
    "papermill": {
     "duration": 0.1976,
     "end_time": "2025-07-30T11:27:44.967760",
     "exception": false,
     "start_time": "2025-07-30T11:27:44.770160",
     "status": "completed"
    },
    "tags": []
   },
   "outputs": [
    {
     "data": {
      "image/png": "[encoded data removed]",
      "text/plain": [
       "<Figure size 1000x600 with 1 Axes>"
      ]
     },
     "metadata": {},
     "output_type": "display_data"
    }
   ],
   "source": [
    "# Get feature importances\n",
    "feature_importances = model.get_feature_importance()\n",
    "features = X.columns\n",
    "\n",
    "# Plot\n",
    "plt.figure(figsize=(10,6))\n",
    "sns.barplot(x=feature_importances, y=features)\n",
    "plt.title('Feature Importance (CatBoost)')\n",
    "plt.xlabel('Importance Score')\n",
    "plt.ylabel('Feature')\n",
    "plt.show()\n"
   ]
  },
  {
   "cell_type": "code",
   "execution_count": 20,
   "id": "df96a8a5",
   "metadata": {
    "execution": {
     "iopub.execute_input": "2025-07-30T11:27:44.983019Z",
     "iopub.status.busy": "2025-07-30T11:27:44.982701Z",
     "iopub.status.idle": "2025-07-30T11:27:45.304833Z",
     "shell.execute_reply": "2025-07-30T11:27:45.303983Z"
    },
    "papermill": {
     "duration": 0.331714,
     "end_time": "2025-07-30T11:27:45.306606",
     "exception": false,
     "start_time": "2025-07-30T11:27:44.974892",
     "status": "completed"
    },
    "tags": []
   },
   "outputs": [],
   "source": [
    "import optuna\n",
    "from sklearn.model_selection import StratifiedKFold\n",
    "from sklearn.metrics import accuracy_score"
   ]
  },
  {
   "cell_type": "code",
   "execution_count": 21,
   "id": "65aa9122",
   "metadata": {
    "execution": {
     "iopub.execute_input": "2025-07-30T11:27:45.321718Z",
     "iopub.status.busy": "2025-07-30T11:27:45.321407Z",
     "iopub.status.idle": "2025-07-30T11:27:45.329507Z",
     "shell.execute_reply": "2025-07-30T11:27:45.328465Z"
    },
    "papermill": {
     "duration": 0.01746,
     "end_time": "2025-07-30T11:27:45.331108",
     "exception": false,
     "start_time": "2025-07-30T11:27:45.313648",
     "status": "completed"
    },
    "tags": []
   },
   "outputs": [],
   "source": [
    "def objective(trial):\n",
    "    # Suggest hyperparameters to tune\n",
    "    param = {\n",
    "        'iterations': trial.suggest_int('iterations', 200, 1000),           # Number of boosting rounds\n",
    "        'depth': trial.suggest_int('depth', 4, 10),                        # Tree depth\n",
    "        'learning_rate': trial.suggest_loguniform('learning_rate', 0.01, 0.3),  # Step size shrinkage\n",
    "        'l2_leaf_reg': trial.suggest_float('l2_leaf_reg', 1, 10),          # L2 regularization\n",
    "        'random_seed': 42,\n",
    "        'eval_metric': 'Accuracy',\n",
    "        'early_stopping_rounds': 50,\n",
    "        'verbose': 0,\n",
    "    }\n",
    "\n",
    "    # Convert categorical feature names to indices (CatBoost requirement)\n",
    "    cat_features_idx = [X_train.columns.get_loc(c) for c in categorical_features]\n",
    "\n",
    "    # Use Stratified K-Fold to maintain class distribution across folds\n",
    "    skf = StratifiedKFold(n_splits=3, shuffle=True, random_state=42)\n",
    "    accuracies = []\n",
    "\n",
    "    # Cross-validation loop\n",
    "    for train_idx, val_idx in skf.split(X_train, y_train):\n",
    "        X_tr, X_val = X_train.iloc[train_idx], X_train.iloc[val_idx]\n",
    "        y_tr, y_val = y_train.iloc[train_idx], y_train.iloc[val_idx]\n",
    "\n",
    "        # Initialize CatBoost with current trial parameters\n",
    "        model = CatBoostClassifier(**param, cat_features=cat_features_idx)\n",
    "        \n",
    "        # Train model with early stopping\n",
    "        model.fit(X_tr, y_tr, eval_set=(X_val, y_val), verbose=0, use_best_model=True)\n",
    "        \n",
    "        # Predict and evaluate accuracy\n",
    "        preds = model.predict(X_val)\n",
    "        acc = accuracy_score(y_val, preds)\n",
    "        accuracies.append(acc)\n",
    "\n",
    "    # Return average accuracy across folds (maximize this)\n",
    "    return np.mean(accuracies)\n"
   ]
  },
  {
   "cell_type": "code",
   "execution_count": 22,
   "id": "c115b20f",
   "metadata": {
    "execution": {
     "iopub.execute_input": "2025-07-30T11:27:45.346684Z",
     "iopub.status.busy": "2025-07-30T11:27:45.345830Z",
     "iopub.status.idle": "2025-07-30T11:27:45.350424Z",
     "shell.execute_reply": "2025-07-30T11:27:45.349497Z"
    },
    "papermill": {
     "duration": 0.013846,
     "end_time": "2025-07-30T11:27:45.351937",
     "exception": false,
     "start_time": "2025-07-30T11:27:45.338091",
     "status": "completed"
    },
    "tags": []
   },
   "outputs": [],
   "source": [
    "import warnings\n",
    "warnings.filterwarnings('ignore')"
   ]
  },
  {
   "cell_type": "code",
   "execution_count": 23,
   "id": "d9a2cdfd",
   "metadata": {
    "execution": {
     "iopub.execute_input": "2025-07-30T11:27:45.367119Z",
     "iopub.status.busy": "2025-07-30T11:27:45.366761Z",
     "iopub.status.idle": "2025-07-30T11:28:21.261498Z",
     "shell.execute_reply": "2025-07-30T11:28:21.260369Z"
    },
    "papermill": {
     "duration": 35.904699,
     "end_time": "2025-07-30T11:28:21.263319",
     "exception": false,
     "start_time": "2025-07-30T11:27:45.358620",
     "status": "completed"
    },
    "tags": []
   },
   "outputs": [
    {
     "name": "stderr",
     "output_type": "stream",
     "text": [
      "[I 2025-07-30 11:27:45,368] A new study created in memory with name: no-name-addfa072-2f28-47ba-aaf8-fe68974bb30f\n",
      "[I 2025-07-30 11:27:46,552] Trial 0 finished with value: 0.9682840369102238 and parameters: {'iterations': 508, 'depth': 6, 'learning_rate': 0.01934329976406353, 'l2_leaf_reg': 9.219136702524267}. Best is trial 0 with value: 0.9682840369102238.\n",
      "[I 2025-07-30 11:27:47,521] Trial 1 finished with value: 0.9683515269554421 and parameters: {'iterations': 383, 'depth': 5, 'learning_rate': 0.023072922265361718, 'l2_leaf_reg': 8.328636802210696}. Best is trial 1 with value: 0.9683515269554421.\n",
      "[I 2025-07-30 11:27:48,760] Trial 2 finished with value: 0.9683515132934897 and parameters: {'iterations': 858, 'depth': 9, 'learning_rate': 0.07613575937406382, 'l2_leaf_reg': 2.370650756707281}. Best is trial 1 with value: 0.9683515269554421.\n",
      "[I 2025-07-30 11:27:49,745] Trial 3 finished with value: 0.9683515269554421 and parameters: {'iterations': 974, 'depth': 5, 'learning_rate': 0.19468123763201653, 'l2_leaf_reg': 6.063301028793257}. Best is trial 1 with value: 0.9683515269554421.\n",
      "[I 2025-07-30 11:27:50,947] Trial 4 finished with value: 0.9680141313771603 and parameters: {'iterations': 485, 'depth': 6, 'learning_rate': 0.010662369411392864, 'l2_leaf_reg': 8.188570931358726}. Best is trial 1 with value: 0.9683515269554421.\n",
      "[I 2025-07-30 11:27:51,991] Trial 5 finished with value: 0.9684864797219738 and parameters: {'iterations': 861, 'depth': 4, 'learning_rate': 0.13478220248194964, 'l2_leaf_reg': 1.3998105109579022}. Best is trial 5 with value: 0.9684864797219738.\n",
      "[I 2025-07-30 11:27:53,430] Trial 6 finished with value: 0.9683515132934897 and parameters: {'iterations': 873, 'depth': 7, 'learning_rate': 0.012328306048090761, 'l2_leaf_reg': 7.521045274626927}. Best is trial 5 with value: 0.9684864797219738.\n",
      "[I 2025-07-30 11:27:54,690] Trial 7 finished with value: 0.9682840369102238 and parameters: {'iterations': 614, 'depth': 9, 'learning_rate': 0.05695422902685671, 'l2_leaf_reg': 1.0048685607204684}. Best is trial 5 with value: 0.9684864797219738.\n",
      "[I 2025-07-30 11:27:55,998] Trial 8 finished with value: 0.9683515132934897 and parameters: {'iterations': 495, 'depth': 9, 'learning_rate': 0.04977250669088321, 'l2_leaf_reg': 3.6753447366540417}. Best is trial 5 with value: 0.9684864797219738.\n",
      "[I 2025-07-30 11:27:57,131] Trial 9 finished with value: 0.9682165741889105 and parameters: {'iterations': 376, 'depth': 4, 'learning_rate': 0.2832698832898246, 'l2_leaf_reg': 4.285834149823261}. Best is trial 5 with value: 0.9684864797219738.\n",
      "[I 2025-07-30 11:27:58,270] Trial 10 finished with value: 0.9683515406173946 and parameters: {'iterations': 708, 'depth': 4, 'learning_rate': 0.13314665443850232, 'l2_leaf_reg': 1.1519883330085672}. Best is trial 5 with value: 0.9684864797219738.\n",
      "[I 2025-07-30 11:27:59,640] Trial 11 finished with value: 0.9684190170006604 and parameters: {'iterations': 708, 'depth': 4, 'learning_rate': 0.12601501784193878, 'l2_leaf_reg': 1.143378417318925}. Best is trial 5 with value: 0.9684864797219738.\n",
      "[I 2025-07-30 11:28:00,751] Trial 12 finished with value: 0.9683515132934897 and parameters: {'iterations': 740, 'depth': 4, 'learning_rate': 0.1113506595144521, 'l2_leaf_reg': 2.8275937713029924}. Best is trial 5 with value: 0.9684864797219738.\n",
      "[I 2025-07-30 11:28:01,800] Trial 13 finished with value: 0.9683515269554421 and parameters: {'iterations': 767, 'depth': 5, 'learning_rate': 0.12229077612681616, 'l2_leaf_reg': 5.119486442712482}. Best is trial 5 with value: 0.9684864797219738.\n",
      "[I 2025-07-30 11:28:02,986] Trial 14 finished with value: 0.9684864933839262 and parameters: {'iterations': 993, 'depth': 7, 'learning_rate': 0.28070339481687123, 'l2_leaf_reg': 2.06091399925928}. Best is trial 14 with value: 0.9684864933839262.\n",
      "[I 2025-07-30 11:28:04,226] Trial 15 finished with value: 0.968149084143692 and parameters: {'iterations': 1000, 'depth': 10, 'learning_rate': 0.2789570129173173, 'l2_leaf_reg': 2.9586831651725998}. Best is trial 14 with value: 0.9684864933839262.\n",
      "[I 2025-07-30 11:28:05,467] Trial 16 finished with value: 0.9684190170006604 and parameters: {'iterations': 881, 'depth': 7, 'learning_rate': 0.19486542980085697, 'l2_leaf_reg': 2.247480030630538}. Best is trial 14 with value: 0.9684864933839262.\n",
      "[I 2025-07-30 11:28:06,556] Trial 17 finished with value: 0.9684190170006604 and parameters: {'iterations': 237, 'depth': 8, 'learning_rate': 0.19453485611341484, 'l2_leaf_reg': 6.073729198269698}. Best is trial 14 with value: 0.9684864933839262.\n",
      "[I 2025-07-30 11:28:07,992] Trial 18 finished with value: 0.9684190033387079 and parameters: {'iterations': 928, 'depth': 6, 'learning_rate': 0.08282810618629838, 'l2_leaf_reg': 4.194226925442393}. Best is trial 14 with value: 0.9684864933839262.\n",
      "[I 2025-07-30 11:28:09,213] Trial 19 finished with value: 0.9684190170006604 and parameters: {'iterations': 807, 'depth': 8, 'learning_rate': 0.04325117363529542, 'l2_leaf_reg': 2.0930642852425962}. Best is trial 14 with value: 0.9684864933839262.\n",
      "[I 2025-07-30 11:28:10,694] Trial 20 finished with value: 0.9685539697671922 and parameters: {'iterations': 589, 'depth': 8, 'learning_rate': 0.1829002098622523, 'l2_leaf_reg': 5.252942836971145}. Best is trial 20 with value: 0.9685539697671922.\n",
      "[I 2025-07-30 11:28:11,877] Trial 21 finished with value: 0.9684864933839262 and parameters: {'iterations': 606, 'depth': 8, 'learning_rate': 0.1860035789419352, 'l2_leaf_reg': 6.7154035862971355}. Best is trial 20 with value: 0.9685539697671922.\n",
      "[I 2025-07-30 11:28:13,059] Trial 22 finished with value: 0.968351554279347 and parameters: {'iterations': 622, 'depth': 8, 'learning_rate': 0.2995672353748716, 'l2_leaf_reg': 7.209413848558864}. Best is trial 20 with value: 0.9685539697671922.\n",
      "[I 2025-07-30 11:28:14,136] Trial 23 finished with value: 0.9684190170006604 and parameters: {'iterations': 657, 'depth': 8, 'learning_rate': 0.1983598988473409, 'l2_leaf_reg': 5.317209139948373}. Best is trial 20 with value: 0.9685539697671922.\n",
      "[I 2025-07-30 11:28:15,210] Trial 24 finished with value: 0.9683515269554421 and parameters: {'iterations': 537, 'depth': 7, 'learning_rate': 0.2249762498644755, 'l2_leaf_reg': 6.541378369105385}. Best is trial 20 with value: 0.9685539697671922.\n",
      "[I 2025-07-30 11:28:16,413] Trial 25 finished with value: 0.9683515132934897 and parameters: {'iterations': 418, 'depth': 10, 'learning_rate': 0.09213462510583874, 'l2_leaf_reg': 4.8170896651822295}. Best is trial 20 with value: 0.9685539697671922.\n",
      "[I 2025-07-30 11:28:17,517] Trial 26 finished with value: 0.9684864933839262 and parameters: {'iterations': 305, 'depth': 8, 'learning_rate': 0.1597628031198673, 'l2_leaf_reg': 9.433925321447125}. Best is trial 20 with value: 0.9685539697671922.\n",
      "[I 2025-07-30 11:28:18,807] Trial 27 finished with value: 0.9683515132934897 and parameters: {'iterations': 544, 'depth': 9, 'learning_rate': 0.03312403486129161, 'l2_leaf_reg': 6.892054000343979}. Best is trial 20 with value: 0.9685539697671922.\n",
      "[I 2025-07-30 11:28:20,108] Trial 28 finished with value: 0.9684864933839265 and parameters: {'iterations': 662, 'depth': 7, 'learning_rate': 0.24378458149717994, 'l2_leaf_reg': 6.082488506160443}. Best is trial 20 with value: 0.9685539697671922.\n",
      "[I 2025-07-30 11:28:21,257] Trial 29 finished with value: 0.9684190033387079 and parameters: {'iterations': 665, 'depth': 6, 'learning_rate': 0.23909841950380567, 'l2_leaf_reg': 3.552661730843291}. Best is trial 20 with value: 0.9685539697671922.\n"
     ]
    }
   ],
   "source": [
    "# Create a study object that maximizes accuracy\n",
    "study = optuna.create_study(direction='maximize')\n",
    "\n",
    "# Run the optimization over a set number of trials (e.g., 30)\n",
    "study.optimize(objective, n_trials=30)"
   ]
  },
  {
   "cell_type": "code",
   "execution_count": 24,
   "id": "03a86884",
   "metadata": {
    "execution": {
     "iopub.execute_input": "2025-07-30T11:28:21.280964Z",
     "iopub.status.busy": "2025-07-30T11:28:21.280655Z",
     "iopub.status.idle": "2025-07-30T11:28:21.286868Z",
     "shell.execute_reply": "2025-07-30T11:28:21.285886Z"
    },
    "papermill": {
     "duration": 0.017062,
     "end_time": "2025-07-30T11:28:21.288581",
     "exception": false,
     "start_time": "2025-07-30T11:28:21.271519",
     "status": "completed"
    },
    "tags": []
   },
   "outputs": [
    {
     "name": "stdout",
     "output_type": "stream",
     "text": [
      "Best trial:\n",
      "  Accuracy: 0.9686\n",
      "  Params:\n",
      "    iterations: 589\n",
      "    depth: 8\n",
      "    learning_rate: 0.1829002098622523\n",
      "    l2_leaf_reg: 5.252942836971145\n"
     ]
    }
   ],
   "source": [
    "print(\"Best trial:\")\n",
    "trial = study.best_trial\n",
    "print(f\"  Accuracy: {trial.value:.4f}\")\n",
    "print(\"  Params:\")\n",
    "for key, value in trial.params.items():\n",
    "    print(f\"    {key}: {value}\")"
   ]
  },
  {
   "cell_type": "code",
   "execution_count": 25,
   "id": "ae6ca28c",
   "metadata": {
    "execution": {
     "iopub.execute_input": "2025-07-30T11:28:21.306612Z",
     "iopub.status.busy": "2025-07-30T11:28:21.305856Z",
     "iopub.status.idle": "2025-07-30T11:28:22.058749Z",
     "shell.execute_reply": "2025-07-30T11:28:22.057712Z"
    },
    "papermill": {
     "duration": 0.763706,
     "end_time": "2025-07-30T11:28:22.060534",
     "exception": false,
     "start_time": "2025-07-30T11:28:21.296828",
     "status": "completed"
    },
    "tags": []
   },
   "outputs": [
    {
     "name": "stdout",
     "output_type": "stream",
     "text": [
      "0:\tlearn: 0.9667994\ttest: 0.9700405\tbest: 0.9700405 (0)\ttotal: 4.24ms\tremaining: 2.49s\n",
      "Stopped by overfitting detector  (50 iterations wait)\n",
      "\n",
      "bestTest = 0.971659919\n",
      "bestIteration = 44\n",
      "\n",
      "Shrink model to first 45 iterations.\n"
     ]
    },
    {
     "data": {
      "text/plain": [
       "<catboost.core.CatBoostClassifier at 0x7cc6cfe2e0d0>"
      ]
     },
     "execution_count": 25,
     "metadata": {},
     "output_type": "execute_result"
    }
   ],
   "source": [
    "# Update best params with fixed parameters\n",
    "best_params = trial.params\n",
    "best_params.update({\n",
    "    'random_seed': 42,\n",
    "    'eval_metric': 'Accuracy',\n",
    "    'early_stopping_rounds': 50,\n",
    "    'verbose': 100,\n",
    "})\n",
    "\n",
    "# Convert categorical features to indices again\n",
    "cat_features_idx = [X_train.columns.get_loc(c) for c in categorical_features]\n",
    "\n",
    "# Initialize and train the final model\n",
    "final_model = CatBoostClassifier(**best_params, cat_features=cat_features_idx)\n",
    "final_model.fit(X_train, y_train, eval_set=(X_valid, y_valid))\n"
   ]
  },
  {
   "cell_type": "code",
   "execution_count": 26,
   "id": "e626daa6",
   "metadata": {
    "execution": {
     "iopub.execute_input": "2025-07-30T11:28:22.079374Z",
     "iopub.status.busy": "2025-07-30T11:28:22.078694Z",
     "iopub.status.idle": "2025-07-30T11:28:22.384681Z",
     "shell.execute_reply": "2025-07-30T11:28:22.383744Z"
    },
    "papermill": {
     "duration": 0.317311,
     "end_time": "2025-07-30T11:28:22.386351",
     "exception": false,
     "start_time": "2025-07-30T11:28:22.069040",
     "status": "completed"
    },
    "tags": []
   },
   "outputs": [
    {
     "name": "stdout",
     "output_type": "stream",
     "text": [
      "Validation Accuracy (final model): 0.97165991902834\n"
     ]
    },
    {
     "data": {
      "image/png": "[encoded data removed]",
      "text/plain": [
       "<Figure size 640x480 with 2 Axes>"
      ]
     },
     "metadata": {},
     "output_type": "display_data"
    },
    {
     "name": "stdout",
     "output_type": "stream",
     "text": [
      "              precision    recall  f1-score   support\n",
      "\n",
      "   Extrovert       0.98      0.98      0.98      2740\n",
      "   Introvert       0.94      0.95      0.95       965\n",
      "\n",
      "    accuracy                           0.97      3705\n",
      "   macro avg       0.96      0.96      0.96      3705\n",
      "weighted avg       0.97      0.97      0.97      3705\n",
      "\n"
     ]
    }
   ],
   "source": [
    "y_pred = final_model.predict(X_valid)\n",
    "print(\"Validation Accuracy (final model):\", accuracy_score(y_valid, y_pred))\n",
    "\n",
    "cm = confusion_matrix(y_valid, y_pred, labels=['Introvert', 'Extrovert'])\n",
    "ConfusionMatrixDisplay(confusion_matrix=cm, display_labels=['Introvert', 'Extrovert']).plot()\n",
    "plt.show()\n",
    "\n",
    "print(classification_report(y_valid, y_pred))\n"
   ]
  },
  {
   "cell_type": "code",
   "execution_count": 27,
   "id": "86332060",
   "metadata": {
    "execution": {
     "iopub.execute_input": "2025-07-30T11:28:22.405666Z",
     "iopub.status.busy": "2025-07-30T11:28:22.405250Z",
     "iopub.status.idle": "2025-07-30T11:28:22.427320Z",
     "shell.execute_reply": "2025-07-30T11:28:22.426201Z"
    },
    "papermill": {
     "duration": 0.03348,
     "end_time": "2025-07-30T11:28:22.428909",
     "exception": false,
     "start_time": "2025-07-30T11:28:22.395429",
     "status": "completed"
    },
    "tags": []
   },
   "outputs": [
    {
     "name": "stdout",
     "output_type": "stream",
     "text": [
      "Final submission saved!\n"
     ]
    }
   ],
   "source": [
    "test_pred = final_model.predict(X_test)\n",
    "submission = pd.DataFrame({'id': test['id'], 'Personality': test_pred})\n",
    "submission.to_csv('submission.csv', index=False)\n",
    "print(\"Final submission saved!\")\n"
   ]
  }
 ],
 "metadata": {
  "kaggle": {
   "accelerator": "none",
   "dataSources": [
    {
     "databundleVersionId": 12738969,
     "sourceId": 91718,
     "sourceType": "competition"
    }
   ],
   "dockerImageVersionId": 31089,
   "isGpuEnabled": false,
   "isInternetEnabled": false,
   "language": "python",
   "sourceType": "notebook"
  },
  "kernelspec": {
   "display_name": "Python 3",
   "language": "python",
   "name": "python3"
  },
  "language_info": {
   "codemirror_mode": {
    "name": "ipython",
    "version": 3
   },
   "file_extension": ".py",
   "mimetype": "text/x-python",
   "name": "python",
   "nbconvert_exporter": "python",
   "pygments_lexer": "ipython3",
   "version": "3.11.13"
  },
  "papermill": {
   "default_parameters": {},
   "duration": 50.278945,
   "end_time": "2025-07-30T11:28:23.260218",
   "environment_variables": {},
   "exception": null,
   "input_path": "__notebook__.ipynb",
   "output_path": "__notebook__.ipynb",
   "parameters": {},
   "start_time": "2025-07-30T11:27:32.981273",
   "version": "2.6.0"
  }
 },
 "nbformat": 4,
 "nbformat_minor": 5
}
